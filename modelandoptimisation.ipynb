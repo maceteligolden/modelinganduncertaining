{
  "nbformat": 4,
  "nbformat_minor": 0,
  "metadata": {
    "colab": {
      "provenance": [],
      "gpuType": "T4",
      "authorship_tag": "ABX9TyODstBYo26F1hv57ckZf3W7",
      "include_colab_link": true
    },
    "kernelspec": {
      "name": "python3",
      "display_name": "Python 3"
    },
    "language_info": {
      "name": "python"
    },
    "accelerator": "GPU"
  },
  "cells": [
    {
      "cell_type": "markdown",
      "metadata": {
        "id": "view-in-github",
        "colab_type": "text"
      },
      "source": [
        "<a href=\"https://colab.research.google.com/github/maceteligolden/modelinganduncertaining/blob/main/modelandoptimisation.ipynb\" target=\"_parent\"><img src=\"https://colab.research.google.com/assets/colab-badge.svg\" alt=\"Open In Colab\"/></a>"
      ]
    },
    {
      "cell_type": "code",
      "execution_count": 15,
      "metadata": {
        "colab": {
          "base_uri": "https://localhost:8080/",
          "height": 1000
        },
        "id": "YgeAbWGp-8_g",
        "outputId": "b9cc2ed4-64a1-4d63-9bb4-c5f67d498dc0"
      },
      "outputs": [
        {
          "output_type": "stream",
          "name": "stderr",
          "text": [
            "/usr/local/lib/python3.10/dist-packages/ipykernel/ipkernel.py:283: DeprecationWarning: `should_run_async` will not call `transform_cell` automatically in the future. Please pass the result to `transformed_cell` argument and any exception that happen during thetransform in `preprocessing_exc_tuple` in IPython 7.17 and above.\n",
            "  and should_run_async(code)\n"
          ]
        },
        {
          "output_type": "stream",
          "name": "stdout",
          "text": [
            "Collecting bertopic\n",
            "  Downloading bertopic-0.16.3-py3-none-any.whl.metadata (23 kB)\n",
            "Collecting hdbscan\n",
            "  Downloading hdbscan-0.8.37-cp310-cp310-manylinux_2_17_x86_64.manylinux2014_x86_64.whl.metadata (13 kB)\n",
            "Collecting umap\n",
            "  Downloading umap-0.1.1.tar.gz (3.2 kB)\n",
            "  Preparing metadata (setup.py) ... \u001b[?25l\u001b[?25hdone\n",
            "Collecting sentence_transformers\n",
            "  Downloading sentence_transformers-3.0.1-py3-none-any.whl.metadata (10 kB)\n",
            "Requirement already satisfied: numpy>=1.20.0 in /usr/local/lib/python3.10/dist-packages (from bertopic) (1.25.2)\n",
            "Requirement already satisfied: pandas>=1.1.5 in /usr/local/lib/python3.10/dist-packages (from bertopic) (2.0.3)\n",
            "Requirement already satisfied: plotly>=4.7.0 in /usr/local/lib/python3.10/dist-packages (from bertopic) (5.15.0)\n",
            "Requirement already satisfied: scikit-learn>=0.22.2.post1 in /usr/local/lib/python3.10/dist-packages (from bertopic) (1.2.2)\n",
            "Requirement already satisfied: tqdm>=4.41.1 in /usr/local/lib/python3.10/dist-packages (from bertopic) (4.66.4)\n",
            "Collecting umap-learn>=0.5.0 (from bertopic)\n",
            "  Downloading umap_learn-0.5.6-py3-none-any.whl.metadata (21 kB)\n",
            "Collecting cython<3,>=0.27 (from hdbscan)\n",
            "  Downloading Cython-0.29.37-cp310-cp310-manylinux_2_17_x86_64.manylinux2014_x86_64.manylinux_2_24_x86_64.whl.metadata (3.1 kB)\n",
            "Requirement already satisfied: scipy>=1.0 in /usr/local/lib/python3.10/dist-packages (from hdbscan) (1.11.4)\n",
            "Requirement already satisfied: joblib>=1.0 in /usr/local/lib/python3.10/dist-packages (from hdbscan) (1.4.2)\n",
            "Requirement already satisfied: transformers<5.0.0,>=4.34.0 in /usr/local/lib/python3.10/dist-packages (from sentence_transformers) (4.42.4)\n",
            "Requirement already satisfied: torch>=1.11.0 in /usr/local/lib/python3.10/dist-packages (from sentence_transformers) (2.3.1+cu121)\n",
            "Requirement already satisfied: huggingface-hub>=0.15.1 in /usr/local/lib/python3.10/dist-packages (from sentence_transformers) (0.23.5)\n",
            "Requirement already satisfied: Pillow in /usr/local/lib/python3.10/dist-packages (from sentence_transformers) (9.4.0)\n",
            "Requirement already satisfied: filelock in /usr/local/lib/python3.10/dist-packages (from huggingface-hub>=0.15.1->sentence_transformers) (3.15.4)\n",
            "Requirement already satisfied: fsspec>=2023.5.0 in /usr/local/lib/python3.10/dist-packages (from huggingface-hub>=0.15.1->sentence_transformers) (2023.6.0)\n",
            "Requirement already satisfied: packaging>=20.9 in /usr/local/lib/python3.10/dist-packages (from huggingface-hub>=0.15.1->sentence_transformers) (24.1)\n",
            "Requirement already satisfied: pyyaml>=5.1 in /usr/local/lib/python3.10/dist-packages (from huggingface-hub>=0.15.1->sentence_transformers) (6.0.1)\n",
            "Requirement already satisfied: requests in /usr/local/lib/python3.10/dist-packages (from huggingface-hub>=0.15.1->sentence_transformers) (2.31.0)\n",
            "Requirement already satisfied: typing-extensions>=3.7.4.3 in /usr/local/lib/python3.10/dist-packages (from huggingface-hub>=0.15.1->sentence_transformers) (4.12.2)\n",
            "Requirement already satisfied: python-dateutil>=2.8.2 in /usr/local/lib/python3.10/dist-packages (from pandas>=1.1.5->bertopic) (2.8.2)\n",
            "Requirement already satisfied: pytz>=2020.1 in /usr/local/lib/python3.10/dist-packages (from pandas>=1.1.5->bertopic) (2023.4)\n",
            "Requirement already satisfied: tzdata>=2022.1 in /usr/local/lib/python3.10/dist-packages (from pandas>=1.1.5->bertopic) (2024.1)\n",
            "Requirement already satisfied: tenacity>=6.2.0 in /usr/local/lib/python3.10/dist-packages (from plotly>=4.7.0->bertopic) (8.5.0)\n",
            "Requirement already satisfied: threadpoolctl>=2.0.0 in /usr/local/lib/python3.10/dist-packages (from scikit-learn>=0.22.2.post1->bertopic) (3.5.0)\n",
            "Requirement already satisfied: sympy in /usr/local/lib/python3.10/dist-packages (from torch>=1.11.0->sentence_transformers) (1.13.1)\n",
            "Requirement already satisfied: networkx in /usr/local/lib/python3.10/dist-packages (from torch>=1.11.0->sentence_transformers) (3.3)\n",
            "Requirement already satisfied: jinja2 in /usr/local/lib/python3.10/dist-packages (from torch>=1.11.0->sentence_transformers) (3.1.4)\n",
            "Collecting nvidia-cuda-nvrtc-cu12==12.1.105 (from torch>=1.11.0->sentence_transformers)\n",
            "  Using cached nvidia_cuda_nvrtc_cu12-12.1.105-py3-none-manylinux1_x86_64.whl.metadata (1.5 kB)\n",
            "Collecting nvidia-cuda-runtime-cu12==12.1.105 (from torch>=1.11.0->sentence_transformers)\n",
            "  Using cached nvidia_cuda_runtime_cu12-12.1.105-py3-none-manylinux1_x86_64.whl.metadata (1.5 kB)\n",
            "Collecting nvidia-cuda-cupti-cu12==12.1.105 (from torch>=1.11.0->sentence_transformers)\n",
            "  Using cached nvidia_cuda_cupti_cu12-12.1.105-py3-none-manylinux1_x86_64.whl.metadata (1.6 kB)\n",
            "Collecting nvidia-cudnn-cu12==8.9.2.26 (from torch>=1.11.0->sentence_transformers)\n",
            "  Using cached nvidia_cudnn_cu12-8.9.2.26-py3-none-manylinux1_x86_64.whl.metadata (1.6 kB)\n",
            "Collecting nvidia-cublas-cu12==12.1.3.1 (from torch>=1.11.0->sentence_transformers)\n",
            "  Using cached nvidia_cublas_cu12-12.1.3.1-py3-none-manylinux1_x86_64.whl.metadata (1.5 kB)\n",
            "Collecting nvidia-cufft-cu12==11.0.2.54 (from torch>=1.11.0->sentence_transformers)\n",
            "  Using cached nvidia_cufft_cu12-11.0.2.54-py3-none-manylinux1_x86_64.whl.metadata (1.5 kB)\n",
            "Collecting nvidia-curand-cu12==10.3.2.106 (from torch>=1.11.0->sentence_transformers)\n",
            "  Using cached nvidia_curand_cu12-10.3.2.106-py3-none-manylinux1_x86_64.whl.metadata (1.5 kB)\n",
            "Collecting nvidia-cusolver-cu12==11.4.5.107 (from torch>=1.11.0->sentence_transformers)\n",
            "  Using cached nvidia_cusolver_cu12-11.4.5.107-py3-none-manylinux1_x86_64.whl.metadata (1.6 kB)\n",
            "Collecting nvidia-cusparse-cu12==12.1.0.106 (from torch>=1.11.0->sentence_transformers)\n",
            "  Using cached nvidia_cusparse_cu12-12.1.0.106-py3-none-manylinux1_x86_64.whl.metadata (1.6 kB)\n",
            "Collecting nvidia-nccl-cu12==2.20.5 (from torch>=1.11.0->sentence_transformers)\n",
            "  Using cached nvidia_nccl_cu12-2.20.5-py3-none-manylinux2014_x86_64.whl.metadata (1.8 kB)\n",
            "Collecting nvidia-nvtx-cu12==12.1.105 (from torch>=1.11.0->sentence_transformers)\n",
            "  Using cached nvidia_nvtx_cu12-12.1.105-py3-none-manylinux1_x86_64.whl.metadata (1.7 kB)\n",
            "Requirement already satisfied: triton==2.3.1 in /usr/local/lib/python3.10/dist-packages (from torch>=1.11.0->sentence_transformers) (2.3.1)\n",
            "Collecting nvidia-nvjitlink-cu12 (from nvidia-cusolver-cu12==11.4.5.107->torch>=1.11.0->sentence_transformers)\n",
            "  Downloading nvidia_nvjitlink_cu12-12.5.82-py3-none-manylinux2014_x86_64.whl.metadata (1.5 kB)\n",
            "Requirement already satisfied: regex!=2019.12.17 in /usr/local/lib/python3.10/dist-packages (from transformers<5.0.0,>=4.34.0->sentence_transformers) (2024.5.15)\n",
            "Requirement already satisfied: safetensors>=0.4.1 in /usr/local/lib/python3.10/dist-packages (from transformers<5.0.0,>=4.34.0->sentence_transformers) (0.4.3)\n",
            "Requirement already satisfied: tokenizers<0.20,>=0.19 in /usr/local/lib/python3.10/dist-packages (from transformers<5.0.0,>=4.34.0->sentence_transformers) (0.19.1)\n",
            "Requirement already satisfied: numba>=0.51.2 in /usr/local/lib/python3.10/dist-packages (from umap-learn>=0.5.0->bertopic) (0.58.1)\n",
            "Collecting pynndescent>=0.5 (from umap-learn>=0.5.0->bertopic)\n",
            "  Downloading pynndescent-0.5.13-py3-none-any.whl.metadata (6.8 kB)\n",
            "Requirement already satisfied: llvmlite<0.42,>=0.41.0dev0 in /usr/local/lib/python3.10/dist-packages (from numba>=0.51.2->umap-learn>=0.5.0->bertopic) (0.41.1)\n",
            "Requirement already satisfied: six>=1.5 in /usr/local/lib/python3.10/dist-packages (from python-dateutil>=2.8.2->pandas>=1.1.5->bertopic) (1.16.0)\n",
            "Requirement already satisfied: MarkupSafe>=2.0 in /usr/local/lib/python3.10/dist-packages (from jinja2->torch>=1.11.0->sentence_transformers) (2.1.5)\n",
            "Requirement already satisfied: charset-normalizer<4,>=2 in /usr/local/lib/python3.10/dist-packages (from requests->huggingface-hub>=0.15.1->sentence_transformers) (3.3.2)\n",
            "Requirement already satisfied: idna<4,>=2.5 in /usr/local/lib/python3.10/dist-packages (from requests->huggingface-hub>=0.15.1->sentence_transformers) (3.7)\n",
            "Requirement already satisfied: urllib3<3,>=1.21.1 in /usr/local/lib/python3.10/dist-packages (from requests->huggingface-hub>=0.15.1->sentence_transformers) (2.0.7)\n",
            "Requirement already satisfied: certifi>=2017.4.17 in /usr/local/lib/python3.10/dist-packages (from requests->huggingface-hub>=0.15.1->sentence_transformers) (2024.7.4)\n",
            "Requirement already satisfied: mpmath<1.4,>=1.1.0 in /usr/local/lib/python3.10/dist-packages (from sympy->torch>=1.11.0->sentence_transformers) (1.3.0)\n",
            "Downloading bertopic-0.16.3-py3-none-any.whl (143 kB)\n",
            "\u001b[2K   \u001b[90m━━━━━━━━━━━━━━━━━━━━━━━━━━━━━━━━━━━━━━━━\u001b[0m \u001b[32m143.5/143.5 kB\u001b[0m \u001b[31m4.8 MB/s\u001b[0m eta \u001b[36m0:00:00\u001b[0m\n",
            "\u001b[?25hDownloading hdbscan-0.8.37-cp310-cp310-manylinux_2_17_x86_64.manylinux2014_x86_64.whl (3.6 MB)\n",
            "\u001b[2K   \u001b[90m━━━━━━━━━━━━━━━━━━━━━━━━━━━━━━━━━━━━━━━━\u001b[0m \u001b[32m3.6/3.6 MB\u001b[0m \u001b[31m39.2 MB/s\u001b[0m eta \u001b[36m0:00:00\u001b[0m\n",
            "\u001b[?25hDownloading sentence_transformers-3.0.1-py3-none-any.whl (227 kB)\n",
            "\u001b[2K   \u001b[90m━━━━━━━━━━━━━━━━━━━━━━━━━━━━━━━━━━━━━━━━\u001b[0m \u001b[32m227.1/227.1 kB\u001b[0m \u001b[31m19.2 MB/s\u001b[0m eta \u001b[36m0:00:00\u001b[0m\n",
            "\u001b[?25hDownloading Cython-0.29.37-cp310-cp310-manylinux_2_17_x86_64.manylinux2014_x86_64.manylinux_2_24_x86_64.whl (1.9 MB)\n",
            "\u001b[2K   \u001b[90m━━━━━━━━━━━━━━━━━━━━━━━━━━━━━━━━━━━━━━━━\u001b[0m \u001b[32m1.9/1.9 MB\u001b[0m \u001b[31m53.2 MB/s\u001b[0m eta \u001b[36m0:00:00\u001b[0m\n",
            "\u001b[?25hUsing cached nvidia_cublas_cu12-12.1.3.1-py3-none-manylinux1_x86_64.whl (410.6 MB)\n",
            "Using cached nvidia_cuda_cupti_cu12-12.1.105-py3-none-manylinux1_x86_64.whl (14.1 MB)\n",
            "Using cached nvidia_cuda_nvrtc_cu12-12.1.105-py3-none-manylinux1_x86_64.whl (23.7 MB)\n",
            "Using cached nvidia_cuda_runtime_cu12-12.1.105-py3-none-manylinux1_x86_64.whl (823 kB)\n",
            "Using cached nvidia_cudnn_cu12-8.9.2.26-py3-none-manylinux1_x86_64.whl (731.7 MB)\n",
            "Using cached nvidia_cufft_cu12-11.0.2.54-py3-none-manylinux1_x86_64.whl (121.6 MB)\n",
            "Using cached nvidia_curand_cu12-10.3.2.106-py3-none-manylinux1_x86_64.whl (56.5 MB)\n",
            "Using cached nvidia_cusolver_cu12-11.4.5.107-py3-none-manylinux1_x86_64.whl (124.2 MB)\n",
            "Using cached nvidia_cusparse_cu12-12.1.0.106-py3-none-manylinux1_x86_64.whl (196.0 MB)\n",
            "Using cached nvidia_nccl_cu12-2.20.5-py3-none-manylinux2014_x86_64.whl (176.2 MB)\n",
            "Using cached nvidia_nvtx_cu12-12.1.105-py3-none-manylinux1_x86_64.whl (99 kB)\n",
            "Downloading umap_learn-0.5.6-py3-none-any.whl (85 kB)\n",
            "\u001b[2K   \u001b[90m━━━━━━━━━━━━━━━━━━━━━━━━━━━━━━━━━━━━━━━━\u001b[0m \u001b[32m85.7/85.7 kB\u001b[0m \u001b[31m123.0 kB/s\u001b[0m eta \u001b[36m0:00:00\u001b[0m\n",
            "\u001b[?25hDownloading pynndescent-0.5.13-py3-none-any.whl (56 kB)\n",
            "\u001b[2K   \u001b[90m━━━━━━━━━━━━━━━━━━━━━━━━━━━━━━━━━━━━━━━━\u001b[0m \u001b[32m56.9/56.9 kB\u001b[0m \u001b[31m5.2 MB/s\u001b[0m eta \u001b[36m0:00:00\u001b[0m\n",
            "\u001b[?25hDownloading nvidia_nvjitlink_cu12-12.5.82-py3-none-manylinux2014_x86_64.whl (21.3 MB)\n",
            "\u001b[2K   \u001b[90m━━━━━━━━━━━━━━━━━━━━━━━━━━━━━━━━━━━━━━━━\u001b[0m \u001b[32m21.3/21.3 MB\u001b[0m \u001b[31m70.3 MB/s\u001b[0m eta \u001b[36m0:00:00\u001b[0m\n",
            "\u001b[?25hBuilding wheels for collected packages: umap\n",
            "  Building wheel for umap (setup.py) ... \u001b[?25l\u001b[?25hdone\n",
            "  Created wheel for umap: filename=umap-0.1.1-py3-none-any.whl size=3542 sha256=27dd79bf4234a70bd11376f7711ed92b46c811afd4fb68b870b9f8e4589d37e0\n",
            "  Stored in directory: /root/.cache/pip/wheels/15/f1/28/53dcf7a309118ed35d810a5f9cb995217800f3f269ab5771cb\n",
            "Successfully built umap\n",
            "Installing collected packages: umap, nvidia-nvtx-cu12, nvidia-nvjitlink-cu12, nvidia-nccl-cu12, nvidia-curand-cu12, nvidia-cufft-cu12, nvidia-cuda-runtime-cu12, nvidia-cuda-nvrtc-cu12, nvidia-cuda-cupti-cu12, nvidia-cublas-cu12, cython, nvidia-cusparse-cu12, nvidia-cudnn-cu12, pynndescent, nvidia-cusolver-cu12, hdbscan, umap-learn, sentence_transformers, bertopic\n",
            "  Attempting uninstall: cython\n",
            "    Found existing installation: Cython 3.0.10\n",
            "    Uninstalling Cython-3.0.10:\n",
            "      Successfully uninstalled Cython-3.0.10\n",
            "Successfully installed bertopic-0.16.3 cython-0.29.37 hdbscan-0.8.37 nvidia-cublas-cu12-12.1.3.1 nvidia-cuda-cupti-cu12-12.1.105 nvidia-cuda-nvrtc-cu12-12.1.105 nvidia-cuda-runtime-cu12-12.1.105 nvidia-cudnn-cu12-8.9.2.26 nvidia-cufft-cu12-11.0.2.54 nvidia-curand-cu12-10.3.2.106 nvidia-cusolver-cu12-11.4.5.107 nvidia-cusparse-cu12-12.1.0.106 nvidia-nccl-cu12-2.20.5 nvidia-nvjitlink-cu12-12.5.82 nvidia-nvtx-cu12-12.1.105 pynndescent-0.5.13 sentence_transformers-3.0.1 umap-0.1.1 umap-learn-0.5.6\n"
          ]
        },
        {
          "output_type": "display_data",
          "data": {
            "application/vnd.colab-display-data+json": {
              "pip_warning": {
                "packages": [
                  "Cython",
                  "cython"
                ]
              },
              "id": "2e27d2ea6a0f43d48d6b87480f15642c"
            }
          },
          "metadata": {}
        }
      ],
      "source": [
        "!pip install bertopic hdbscan umap sentence_transformers"
      ]
    },
    {
      "cell_type": "code",
      "source": [
        "from google.colab import drive\n",
        "drive.mount('/content/drive')"
      ],
      "metadata": {
        "colab": {
          "base_uri": "https://localhost:8080/"
        },
        "id": "RnhytsT0noSC",
        "outputId": "596a20ed-70d6-4adb-cc33-64ce7d401d78"
      },
      "execution_count": 1,
      "outputs": [
        {
          "output_type": "stream",
          "name": "stdout",
          "text": [
            "Drive already mounted at /content/drive; to attempt to forcibly remount, call drive.mount(\"/content/drive\", force_remount=True).\n"
          ]
        }
      ]
    },
    {
      "cell_type": "code",
      "source": [
        "import nltk\n",
        "import json\n",
        "import glob\n",
        "import numpy as np\n",
        "import gensim\n",
        "import gensim.corpora as corpora\n",
        "import gensim.utils as simple_preprocess\n",
        "import gensim.models as models\n",
        "import matplotlib.pyplot as plt\n",
        "import spacy\n",
        "from nltk.corpus import stopwords\n",
        "import pyLDAvis\n",
        "import pyLDAvis.gensim\n",
        "import pandas as pd\n",
        "\n",
        "nltk.download('stopwords')"
      ],
      "metadata": {
        "colab": {
          "base_uri": "https://localhost:8080/"
        },
        "id": "qZMAaahYojen",
        "outputId": "79f347b3-422e-441b-bfe9-9b0d9ebd2727"
      },
      "execution_count": 2,
      "outputs": [
        {
          "output_type": "stream",
          "name": "stderr",
          "text": [
            "[nltk_data] Downloading package stopwords to /root/nltk_data...\n",
            "[nltk_data]   Package stopwords is already up-to-date!\n"
          ]
        },
        {
          "output_type": "execute_result",
          "data": {
            "text/plain": [
              "True"
            ]
          },
          "metadata": {},
          "execution_count": 2
        }
      ]
    },
    {
      "cell_type": "code",
      "source": [
        "# constant and global initialization\n",
        "stopwords = stopwords.words('english')\n",
        "\n",
        "base_url = \"/content/drive/MyDrive/twitter_dataset.csv\""
      ],
      "metadata": {
        "colab": {
          "base_uri": "https://localhost:8080/"
        },
        "id": "QNrxR7jOnqm6",
        "outputId": "3306cd25-f904-4d2a-f45b-e9e53bf1d096"
      },
      "execution_count": 3,
      "outputs": [
        {
          "output_type": "stream",
          "name": "stderr",
          "text": [
            "/usr/local/lib/python3.10/dist-packages/ipykernel/ipkernel.py:283: DeprecationWarning: `should_run_async` will not call `transform_cell` automatically in the future. Please pass the result to `transformed_cell` argument and any exception that happen during thetransform in `preprocessing_exc_tuple` in IPython 7.17 and above.\n",
            "  and should_run_async(code)\n"
          ]
        }
      ]
    },
    {
      "cell_type": "code",
      "source": [
        "# Fetch corpus\n",
        "def fetch_data_set(file):\n",
        "  return pd.read_csv(file)"
      ],
      "metadata": {
        "colab": {
          "base_uri": "https://localhost:8080/"
        },
        "id": "z_0cDNfwospy",
        "outputId": "6bfbaf31-142e-4b16-ff58-a5187e1f9604"
      },
      "execution_count": 4,
      "outputs": [
        {
          "output_type": "stream",
          "name": "stderr",
          "text": [
            "/usr/local/lib/python3.10/dist-packages/ipykernel/ipkernel.py:283: DeprecationWarning: `should_run_async` will not call `transform_cell` automatically in the future. Please pass the result to `transformed_cell` argument and any exception that happen during thetransform in `preprocessing_exc_tuple` in IPython 7.17 and above.\n",
            "  and should_run_async(code)\n"
          ]
        }
      ]
    },
    {
      "cell_type": "code",
      "source": [
        "# fetch dataset from location\n",
        "df = fetch_data_set(base_url)\n",
        "\n",
        "tweets = df['Text']\n",
        "\n",
        "df.head()"
      ],
      "metadata": {
        "colab": {
          "base_uri": "https://localhost:8080/",
          "height": 262
        },
        "id": "AZT0BSy7qUg7",
        "outputId": "31f9a53c-6e97-48e1-d333-d5136ea4cdb3"
      },
      "execution_count": 5,
      "outputs": [
        {
          "output_type": "stream",
          "name": "stderr",
          "text": [
            "/usr/local/lib/python3.10/dist-packages/ipykernel/ipkernel.py:283: DeprecationWarning: `should_run_async` will not call `transform_cell` automatically in the future. Please pass the result to `transformed_cell` argument and any exception that happen during thetransform in `preprocessing_exc_tuple` in IPython 7.17 and above.\n",
            "  and should_run_async(code)\n"
          ]
        },
        {
          "output_type": "execute_result",
          "data": {
            "text/plain": [
              "   Tweet_ID        Username  \\\n",
              "0         1         julie81   \n",
              "1         2   richardhester   \n",
              "2         3  williamsjoseph   \n",
              "3         4     danielsmary   \n",
              "4         5      carlwarren   \n",
              "\n",
              "                                                Text  Retweets  Likes  \\\n",
              "0  Party least receive say or single. Prevent pre...         2     25   \n",
              "1  Hotel still Congress may member staff. Media d...        35     29   \n",
              "2  Nice be her debate industry that year. Film wh...        51     25   \n",
              "3  Laugh explain situation career occur serious. ...        37     18   \n",
              "4  Involve sense former often approach government...        27     80   \n",
              "\n",
              "             Timestamp  \n",
              "0  2023-01-30 11:00:51  \n",
              "1  2023-01-02 22:45:58  \n",
              "2  2023-01-18 11:25:19  \n",
              "3  2023-04-10 22:06:29  \n",
              "4  2023-01-24 07:12:21  "
            ],
            "text/html": [
              "\n",
              "  <div id=\"df-387b6d28-537a-473f-b1ab-93d67a47ee3d\" class=\"colab-df-container\">\n",
              "    <div>\n",
              "<style scoped>\n",
              "    .dataframe tbody tr th:only-of-type {\n",
              "        vertical-align: middle;\n",
              "    }\n",
              "\n",
              "    .dataframe tbody tr th {\n",
              "        vertical-align: top;\n",
              "    }\n",
              "\n",
              "    .dataframe thead th {\n",
              "        text-align: right;\n",
              "    }\n",
              "</style>\n",
              "<table border=\"1\" class=\"dataframe\">\n",
              "  <thead>\n",
              "    <tr style=\"text-align: right;\">\n",
              "      <th></th>\n",
              "      <th>Tweet_ID</th>\n",
              "      <th>Username</th>\n",
              "      <th>Text</th>\n",
              "      <th>Retweets</th>\n",
              "      <th>Likes</th>\n",
              "      <th>Timestamp</th>\n",
              "    </tr>\n",
              "  </thead>\n",
              "  <tbody>\n",
              "    <tr>\n",
              "      <th>0</th>\n",
              "      <td>1</td>\n",
              "      <td>julie81</td>\n",
              "      <td>Party least receive say or single. Prevent pre...</td>\n",
              "      <td>2</td>\n",
              "      <td>25</td>\n",
              "      <td>2023-01-30 11:00:51</td>\n",
              "    </tr>\n",
              "    <tr>\n",
              "      <th>1</th>\n",
              "      <td>2</td>\n",
              "      <td>richardhester</td>\n",
              "      <td>Hotel still Congress may member staff. Media d...</td>\n",
              "      <td>35</td>\n",
              "      <td>29</td>\n",
              "      <td>2023-01-02 22:45:58</td>\n",
              "    </tr>\n",
              "    <tr>\n",
              "      <th>2</th>\n",
              "      <td>3</td>\n",
              "      <td>williamsjoseph</td>\n",
              "      <td>Nice be her debate industry that year. Film wh...</td>\n",
              "      <td>51</td>\n",
              "      <td>25</td>\n",
              "      <td>2023-01-18 11:25:19</td>\n",
              "    </tr>\n",
              "    <tr>\n",
              "      <th>3</th>\n",
              "      <td>4</td>\n",
              "      <td>danielsmary</td>\n",
              "      <td>Laugh explain situation career occur serious. ...</td>\n",
              "      <td>37</td>\n",
              "      <td>18</td>\n",
              "      <td>2023-04-10 22:06:29</td>\n",
              "    </tr>\n",
              "    <tr>\n",
              "      <th>4</th>\n",
              "      <td>5</td>\n",
              "      <td>carlwarren</td>\n",
              "      <td>Involve sense former often approach government...</td>\n",
              "      <td>27</td>\n",
              "      <td>80</td>\n",
              "      <td>2023-01-24 07:12:21</td>\n",
              "    </tr>\n",
              "  </tbody>\n",
              "</table>\n",
              "</div>\n",
              "    <div class=\"colab-df-buttons\">\n",
              "\n",
              "  <div class=\"colab-df-container\">\n",
              "    <button class=\"colab-df-convert\" onclick=\"convertToInteractive('df-387b6d28-537a-473f-b1ab-93d67a47ee3d')\"\n",
              "            title=\"Convert this dataframe to an interactive table.\"\n",
              "            style=\"display:none;\">\n",
              "\n",
              "  <svg xmlns=\"http://www.w3.org/2000/svg\" height=\"24px\" viewBox=\"0 -960 960 960\">\n",
              "    <path d=\"M120-120v-720h720v720H120Zm60-500h600v-160H180v160Zm220 220h160v-160H400v160Zm0 220h160v-160H400v160ZM180-400h160v-160H180v160Zm440 0h160v-160H620v160ZM180-180h160v-160H180v160Zm440 0h160v-160H620v160Z\"/>\n",
              "  </svg>\n",
              "    </button>\n",
              "\n",
              "  <style>\n",
              "    .colab-df-container {\n",
              "      display:flex;\n",
              "      gap: 12px;\n",
              "    }\n",
              "\n",
              "    .colab-df-convert {\n",
              "      background-color: #E8F0FE;\n",
              "      border: none;\n",
              "      border-radius: 50%;\n",
              "      cursor: pointer;\n",
              "      display: none;\n",
              "      fill: #1967D2;\n",
              "      height: 32px;\n",
              "      padding: 0 0 0 0;\n",
              "      width: 32px;\n",
              "    }\n",
              "\n",
              "    .colab-df-convert:hover {\n",
              "      background-color: #E2EBFA;\n",
              "      box-shadow: 0px 1px 2px rgba(60, 64, 67, 0.3), 0px 1px 3px 1px rgba(60, 64, 67, 0.15);\n",
              "      fill: #174EA6;\n",
              "    }\n",
              "\n",
              "    .colab-df-buttons div {\n",
              "      margin-bottom: 4px;\n",
              "    }\n",
              "\n",
              "    [theme=dark] .colab-df-convert {\n",
              "      background-color: #3B4455;\n",
              "      fill: #D2E3FC;\n",
              "    }\n",
              "\n",
              "    [theme=dark] .colab-df-convert:hover {\n",
              "      background-color: #434B5C;\n",
              "      box-shadow: 0px 1px 3px 1px rgba(0, 0, 0, 0.15);\n",
              "      filter: drop-shadow(0px 1px 2px rgba(0, 0, 0, 0.3));\n",
              "      fill: #FFFFFF;\n",
              "    }\n",
              "  </style>\n",
              "\n",
              "    <script>\n",
              "      const buttonEl =\n",
              "        document.querySelector('#df-387b6d28-537a-473f-b1ab-93d67a47ee3d button.colab-df-convert');\n",
              "      buttonEl.style.display =\n",
              "        google.colab.kernel.accessAllowed ? 'block' : 'none';\n",
              "\n",
              "      async function convertToInteractive(key) {\n",
              "        const element = document.querySelector('#df-387b6d28-537a-473f-b1ab-93d67a47ee3d');\n",
              "        const dataTable =\n",
              "          await google.colab.kernel.invokeFunction('convertToInteractive',\n",
              "                                                    [key], {});\n",
              "        if (!dataTable) return;\n",
              "\n",
              "        const docLinkHtml = 'Like what you see? Visit the ' +\n",
              "          '<a target=\"_blank\" href=https://colab.research.google.com/notebooks/data_table.ipynb>data table notebook</a>'\n",
              "          + ' to learn more about interactive tables.';\n",
              "        element.innerHTML = '';\n",
              "        dataTable['output_type'] = 'display_data';\n",
              "        await google.colab.output.renderOutput(dataTable, element);\n",
              "        const docLink = document.createElement('div');\n",
              "        docLink.innerHTML = docLinkHtml;\n",
              "        element.appendChild(docLink);\n",
              "      }\n",
              "    </script>\n",
              "  </div>\n",
              "\n",
              "\n",
              "<div id=\"df-e7df34fc-bef9-4868-b981-09c3c1cd150e\">\n",
              "  <button class=\"colab-df-quickchart\" onclick=\"quickchart('df-e7df34fc-bef9-4868-b981-09c3c1cd150e')\"\n",
              "            title=\"Suggest charts\"\n",
              "            style=\"display:none;\">\n",
              "\n",
              "<svg xmlns=\"http://www.w3.org/2000/svg\" height=\"24px\"viewBox=\"0 0 24 24\"\n",
              "     width=\"24px\">\n",
              "    <g>\n",
              "        <path d=\"M19 3H5c-1.1 0-2 .9-2 2v14c0 1.1.9 2 2 2h14c1.1 0 2-.9 2-2V5c0-1.1-.9-2-2-2zM9 17H7v-7h2v7zm4 0h-2V7h2v10zm4 0h-2v-4h2v4z\"/>\n",
              "    </g>\n",
              "</svg>\n",
              "  </button>\n",
              "\n",
              "<style>\n",
              "  .colab-df-quickchart {\n",
              "      --bg-color: #E8F0FE;\n",
              "      --fill-color: #1967D2;\n",
              "      --hover-bg-color: #E2EBFA;\n",
              "      --hover-fill-color: #174EA6;\n",
              "      --disabled-fill-color: #AAA;\n",
              "      --disabled-bg-color: #DDD;\n",
              "  }\n",
              "\n",
              "  [theme=dark] .colab-df-quickchart {\n",
              "      --bg-color: #3B4455;\n",
              "      --fill-color: #D2E3FC;\n",
              "      --hover-bg-color: #434B5C;\n",
              "      --hover-fill-color: #FFFFFF;\n",
              "      --disabled-bg-color: #3B4455;\n",
              "      --disabled-fill-color: #666;\n",
              "  }\n",
              "\n",
              "  .colab-df-quickchart {\n",
              "    background-color: var(--bg-color);\n",
              "    border: none;\n",
              "    border-radius: 50%;\n",
              "    cursor: pointer;\n",
              "    display: none;\n",
              "    fill: var(--fill-color);\n",
              "    height: 32px;\n",
              "    padding: 0;\n",
              "    width: 32px;\n",
              "  }\n",
              "\n",
              "  .colab-df-quickchart:hover {\n",
              "    background-color: var(--hover-bg-color);\n",
              "    box-shadow: 0 1px 2px rgba(60, 64, 67, 0.3), 0 1px 3px 1px rgba(60, 64, 67, 0.15);\n",
              "    fill: var(--button-hover-fill-color);\n",
              "  }\n",
              "\n",
              "  .colab-df-quickchart-complete:disabled,\n",
              "  .colab-df-quickchart-complete:disabled:hover {\n",
              "    background-color: var(--disabled-bg-color);\n",
              "    fill: var(--disabled-fill-color);\n",
              "    box-shadow: none;\n",
              "  }\n",
              "\n",
              "  .colab-df-spinner {\n",
              "    border: 2px solid var(--fill-color);\n",
              "    border-color: transparent;\n",
              "    border-bottom-color: var(--fill-color);\n",
              "    animation:\n",
              "      spin 1s steps(1) infinite;\n",
              "  }\n",
              "\n",
              "  @keyframes spin {\n",
              "    0% {\n",
              "      border-color: transparent;\n",
              "      border-bottom-color: var(--fill-color);\n",
              "      border-left-color: var(--fill-color);\n",
              "    }\n",
              "    20% {\n",
              "      border-color: transparent;\n",
              "      border-left-color: var(--fill-color);\n",
              "      border-top-color: var(--fill-color);\n",
              "    }\n",
              "    30% {\n",
              "      border-color: transparent;\n",
              "      border-left-color: var(--fill-color);\n",
              "      border-top-color: var(--fill-color);\n",
              "      border-right-color: var(--fill-color);\n",
              "    }\n",
              "    40% {\n",
              "      border-color: transparent;\n",
              "      border-right-color: var(--fill-color);\n",
              "      border-top-color: var(--fill-color);\n",
              "    }\n",
              "    60% {\n",
              "      border-color: transparent;\n",
              "      border-right-color: var(--fill-color);\n",
              "    }\n",
              "    80% {\n",
              "      border-color: transparent;\n",
              "      border-right-color: var(--fill-color);\n",
              "      border-bottom-color: var(--fill-color);\n",
              "    }\n",
              "    90% {\n",
              "      border-color: transparent;\n",
              "      border-bottom-color: var(--fill-color);\n",
              "    }\n",
              "  }\n",
              "</style>\n",
              "\n",
              "  <script>\n",
              "    async function quickchart(key) {\n",
              "      const quickchartButtonEl =\n",
              "        document.querySelector('#' + key + ' button');\n",
              "      quickchartButtonEl.disabled = true;  // To prevent multiple clicks.\n",
              "      quickchartButtonEl.classList.add('colab-df-spinner');\n",
              "      try {\n",
              "        const charts = await google.colab.kernel.invokeFunction(\n",
              "            'suggestCharts', [key], {});\n",
              "      } catch (error) {\n",
              "        console.error('Error during call to suggestCharts:', error);\n",
              "      }\n",
              "      quickchartButtonEl.classList.remove('colab-df-spinner');\n",
              "      quickchartButtonEl.classList.add('colab-df-quickchart-complete');\n",
              "    }\n",
              "    (() => {\n",
              "      let quickchartButtonEl =\n",
              "        document.querySelector('#df-e7df34fc-bef9-4868-b981-09c3c1cd150e button');\n",
              "      quickchartButtonEl.style.display =\n",
              "        google.colab.kernel.accessAllowed ? 'block' : 'none';\n",
              "    })();\n",
              "  </script>\n",
              "</div>\n",
              "\n",
              "    </div>\n",
              "  </div>\n"
            ],
            "application/vnd.google.colaboratory.intrinsic+json": {
              "type": "dataframe",
              "variable_name": "df",
              "summary": "{\n  \"name\": \"df\",\n  \"rows\": 10000,\n  \"fields\": [\n    {\n      \"column\": \"Tweet_ID\",\n      \"properties\": {\n        \"dtype\": \"number\",\n        \"std\": 2886,\n        \"min\": 1,\n        \"max\": 10000,\n        \"num_unique_values\": 10000,\n        \"samples\": [\n          6253,\n          4685,\n          1732\n        ],\n        \"semantic_type\": \"\",\n        \"description\": \"\"\n      }\n    },\n    {\n      \"column\": \"Username\",\n      \"properties\": {\n        \"dtype\": \"string\",\n        \"num_unique_values\": 9447,\n        \"samples\": [\n          \"pmoss\",\n          \"vwilson\",\n          \"kenneth53\"\n        ],\n        \"semantic_type\": \"\",\n        \"description\": \"\"\n      }\n    },\n    {\n      \"column\": \"Text\",\n      \"properties\": {\n        \"dtype\": \"string\",\n        \"num_unique_values\": 10000,\n        \"samples\": [\n          \"Just specific color. Hour federal open act. Particular visit wide another family sea.\\nArt security win great. School discover war hit road population.\",\n          \"Move memory join.\\nIndeed model quite adult when nearly. Safe impact argue detail. Eye not piece anything reach.\\nNews everyone state image believe allow. Strategy hear sure really author.\\nSource paper body manage. Plan because police put.\",\n          \"Meeting recently bed force after difference.\\nBoth herself full note management decade. Wait outside medical bill represent.\\nStudy western prepare single so and. Important audience first not find. Strategy either fund same skin collection hour.\"\n        ],\n        \"semantic_type\": \"\",\n        \"description\": \"\"\n      }\n    },\n    {\n      \"column\": \"Retweets\",\n      \"properties\": {\n        \"dtype\": \"number\",\n        \"std\": 28,\n        \"min\": 0,\n        \"max\": 100,\n        \"num_unique_values\": 101,\n        \"samples\": [\n          44,\n          80,\n          16\n        ],\n        \"semantic_type\": \"\",\n        \"description\": \"\"\n      }\n    },\n    {\n      \"column\": \"Likes\",\n      \"properties\": {\n        \"dtype\": \"number\",\n        \"std\": 28,\n        \"min\": 0,\n        \"max\": 100,\n        \"num_unique_values\": 101,\n        \"samples\": [\n          53,\n          54,\n          76\n        ],\n        \"semantic_type\": \"\",\n        \"description\": \"\"\n      }\n    },\n    {\n      \"column\": \"Timestamp\",\n      \"properties\": {\n        \"dtype\": \"object\",\n        \"num_unique_values\": 9993,\n        \"samples\": [\n          \"2023-02-21 13:33:48\",\n          \"2023-04-07 21:56:35\",\n          \"2023-02-19 13:17:42\"\n        ],\n        \"semantic_type\": \"\",\n        \"description\": \"\"\n      }\n    }\n  ]\n}"
            }
          },
          "metadata": {},
          "execution_count": 5
        }
      ]
    },
    {
      "cell_type": "code",
      "source": [
        "# lemmitize tweets\n",
        "def lemmatize_token_pos(tweets):\n",
        "  pos_tags = [\"NOUN\", \"ADJ\", \"VERB\", \"ADV\"]\n",
        "  nlp = spacy.load(\"en_core_web_sm\", disable=[\"parser\", \"ner\"])\n",
        "  tweets_out = []\n",
        "  for tweet in tweets:\n",
        "    doc = nlp(tweet)\n",
        "    new_tweet = []\n",
        "    for token in doc:\n",
        "      if token.pos_ in pos_tags:\n",
        "        new_tweet.append(token.lemma_)\n",
        "    tweets_out.append(\" \".join(new_tweet))\n",
        "  return (tweets_out)\n",
        "\n",
        "# apply preprocessing methods\n",
        "def preprocess(text):\n",
        "  final = []\n",
        "  for tweet in tweets:\n",
        "    new = gensim.utils.simple_preprocess(tweet, deacc=True)\n",
        "    final.append(new)\n",
        "  return (final)\n",
        "\n",
        "# generate words\n",
        "def gen_words(tweets):\n",
        "  lemmatized_tweets = lemmatize_token_pos(tweets)\n",
        "  print(f\"Sample Lemmatized tweets: {lemmatized_tweets[0][0:90]}\")\n",
        "  preprocessed_tweets = preprocess(lemmatized_tweets)\n",
        "  print(f\"Sample Preprocessed tweets: {preprocessed_tweets[0][0:90]}\")\n",
        "  return (preprocessed_tweets)\n",
        "\n",
        "words = gen_words(tweets)\n"
      ],
      "metadata": {
        "colab": {
          "base_uri": "https://localhost:8080/"
        },
        "id": "R9e53NLSvecm",
        "outputId": "43260177-82e6-48d7-fb71-e292a936d728"
      },
      "execution_count": 6,
      "outputs": [
        {
          "output_type": "stream",
          "name": "stderr",
          "text": [
            "/usr/local/lib/python3.10/dist-packages/ipykernel/ipkernel.py:283: DeprecationWarning: `should_run_async` will not call `transform_cell` automatically in the future. Please pass the result to `transformed_cell` argument and any exception that happen during thetransform in `preprocessing_exc_tuple` in IPython 7.17 and above.\n",
            "  and should_run_async(code)\n"
          ]
        },
        {
          "output_type": "stream",
          "name": "stdout",
          "text": [
            "Sample Lemmatized tweets: least receive say single prevent prevent husband affect cup style evening protect effect s\n",
            "Sample Preprocessed tweets: ['party', 'least', 'receive', 'say', 'or', 'single', 'prevent', 'prevent', 'husband', 'affect', 'may', 'himself', 'cup', 'style', 'evening', 'protect', 'effect', 'another', 'themselves', 'stage', 'perform', 'possible', 'try', 'tax', 'share', 'style', 'television', 'with', 'successful', 'much', 'sell', 'development', 'economy', 'effect']\n"
          ]
        }
      ]
    },
    {
      "cell_type": "code",
      "source": [
        "id2word = corpora.Dictionary(words)\n",
        "\n",
        "# filter extremes\n",
        "id2word.filter_extremes(no_below=15, no_above=0.5, keep_n=100000)\n",
        "\n",
        "corpus = []\n",
        "for word in words:\n",
        "  new = id2word.doc2bow(word)\n",
        "  corpus.append(new)\n",
        "\n",
        "tfidf_transformer = models.TfidfModel(corpus, id2word=id2word)\n",
        "\n",
        "# Transform the corpus using the TF-IDF model\n",
        "corpus_tfidf = tfidf_transformer[corpus]\n",
        "\n",
        "word = id2word[[0][:1][0]]\n",
        "print(word)"
      ],
      "metadata": {
        "colab": {
          "base_uri": "https://localhost:8080/"
        },
        "id": "ds9aQqPhwCzg",
        "outputId": "9d3e2ae8-de24-4823-ee93-7a2c2c4cc70f"
      },
      "execution_count": 7,
      "outputs": [
        {
          "output_type": "stream",
          "name": "stderr",
          "text": [
            "/usr/local/lib/python3.10/dist-packages/ipykernel/ipkernel.py:283: DeprecationWarning: `should_run_async` will not call `transform_cell` automatically in the future. Please pass the result to `transformed_cell` argument and any exception that happen during thetransform in `preprocessing_exc_tuple` in IPython 7.17 and above.\n",
            "  and should_run_async(code)\n"
          ]
        },
        {
          "output_type": "stream",
          "name": "stdout",
          "text": [
            "Dictionary<969 unique tokens: ['affect', 'another', 'cup', 'development', 'economy']...>\n",
            "[(0, 0.15620741835387061), (1, 0.16190123510414275), (2, 0.1588987670602643), (3, 0.1601621037106702), (4, 0.16279557032428305), (5, 0.3172451657107869), (6, 0.15834801377206476), (7, 0.16463702906543748), (8, 0.15491746965136555), (9, 0.1560768169360203), (10, 0.1595964200070035), (11, 0.15903747079317418), (12, 0.1547904027823514), (13, 0.15848509760504886), (14, 0.1588987670602643), (15, 0.15848509760504886), (16, 0.3172451657107869), (17, 0.15726551788180204), (18, 0.15353829712815825), (19, 0.16044752209384655)]\n",
            "affect\n"
          ]
        }
      ]
    },
    {
      "cell_type": "code",
      "source": [
        "# train LDA model\n",
        "lda_model = gensim.models.ldamodel.LdaModel(\n",
        "    corpus=corpus_tfidf,\n",
        "    id2word=id2word,\n",
        "    num_topics=5,\n",
        "    random_state=100,\n",
        "    update_every=1,\n",
        "    chunksize=100,\n",
        "    passes=10,\n",
        "    alpha=\"auto\",\n",
        "  )"
      ],
      "metadata": {
        "colab": {
          "base_uri": "https://localhost:8080/"
        },
        "id": "c4ZqbldzwlUg",
        "outputId": "d6179660-b123-44ec-d0e9-96524753487d"
      },
      "execution_count": 8,
      "outputs": [
        {
          "output_type": "stream",
          "name": "stderr",
          "text": [
            "/usr/local/lib/python3.10/dist-packages/ipykernel/ipkernel.py:283: DeprecationWarning: `should_run_async` will not call `transform_cell` automatically in the future. Please pass the result to `transformed_cell` argument and any exception that happen during thetransform in `preprocessing_exc_tuple` in IPython 7.17 and above.\n",
            "  and should_run_async(code)\n"
          ]
        }
      ]
    },
    {
      "cell_type": "code",
      "source": [
        "# display an Intertopic distance map\n",
        "pyLDAvis.enable_notebook()\n",
        "vis = pyLDAvis.gensim.prepare(lda_model, corpus_tfidf, id2word, mds=\"mds\", R=30)\n",
        "vis"
      ],
      "metadata": {
        "colab": {
          "base_uri": "https://localhost:8080/",
          "height": 934
        },
        "id": "A27zo7D_w75_",
        "outputId": "a13f1b69-67a7-47ca-cedb-ce6fbbd10ab5"
      },
      "execution_count": 9,
      "outputs": [
        {
          "output_type": "stream",
          "name": "stderr",
          "text": [
            "/usr/local/lib/python3.10/dist-packages/ipykernel/ipkernel.py:283: DeprecationWarning: `should_run_async` will not call `transform_cell` automatically in the future. Please pass the result to `transformed_cell` argument and any exception that happen during thetransform in `preprocessing_exc_tuple` in IPython 7.17 and above.\n",
            "  and should_run_async(code)\n",
            "WARNING:root:Unknown mds `mds`, switch to PCoA\n"
          ]
        },
        {
          "output_type": "execute_result",
          "data": {
            "text/plain": [
              "PreparedData(topic_coordinates=              x         y  topics  cluster       Freq\n",
              "topic                                                \n",
              "3     -0.181812 -0.037822       1        1  36.126698\n",
              "2     -0.228316 -0.176689       2        1  29.331214\n",
              "4     -0.048088  0.264334       3        1  19.998606\n",
              "0      0.284721 -0.232520       4        1   9.167647\n",
              "1      0.173495  0.182697       5        1   5.375834, topic_info=           Term       Freq      Total Category  logprob  loglift\n",
              "901         add  73.000000  73.000000  Default  30.0000  30.0000\n",
              "376  conference  73.000000  73.000000  Default  29.0000  29.0000\n",
              "143    research  72.000000  72.000000  Default  28.0000  28.0000\n",
              "274   direction  71.000000  71.000000  Default  27.0000  27.0000\n",
              "146       sense  66.000000  66.000000  Default  26.0000  26.0000\n",
              "..          ...        ...        ...      ...      ...      ...\n",
              "237        sort  56.481447  57.293311   Topic5  -3.9954   2.9090\n",
              "335     measure  56.238715  57.050359   Topic5  -3.9997   2.9089\n",
              "261         she  56.166925  56.978056   Topic5  -4.0010   2.9089\n",
              "229        most  56.011987  56.823738   Topic5  -4.0038   2.9089\n",
              "902        edge  55.882345  56.693340   Topic5  -4.0061   2.9088\n",
              "\n",
              "[186 rows x 6 columns], token_table=      Topic      Freq     Term\n",
              "term                          \n",
              "807       4  0.985906  ability\n",
              "901       5  0.986772      add\n",
              "31        3  0.980099   agency\n",
              "713       1  0.986588    agent\n",
              "722       3  0.993553    agree\n",
              "...     ...       ...      ...\n",
              "57        3  0.981571    which\n",
              "622       1  0.981519    whose\n",
              "837       4  0.984608   within\n",
              "911       2  0.986945    write\n",
              "87        3  0.982689     yard\n",
              "\n",
              "[162 rows x 3 columns], R=30, lambda_step=0.01, plot_opts={'xlab': 'PC1', 'ylab': 'PC2'}, topic_order=[4, 3, 5, 1, 2])"
            ],
            "text/html": [
              "\n",
              "<link rel=\"stylesheet\" type=\"text/css\" href=\"https://cdn.jsdelivr.net/gh/bmabey/pyLDAvis@3.4.0/pyLDAvis/js/ldavis.v1.0.0.css\">\n",
              "\n",
              "\n",
              "<div id=\"ldavis_el119251378417443640327845016030\" style=\"background-color:white;\"></div>\n",
              "<script type=\"text/javascript\">\n",
              "\n",
              "var ldavis_el119251378417443640327845016030_data = {\"mdsDat\": {\"x\": [-0.1818124570506836, -0.2283159583051597, -0.04808778944924483, 0.2847210908743699, 0.17349511393071812], \"y\": [-0.037822416637409095, -0.17668908645145784, 0.26433446319735776, -0.23251964294248953, 0.18269668283399865], \"topics\": [1, 2, 3, 4, 5], \"cluster\": [1, 1, 1, 1, 1], \"Freq\": [36.12669810873459, 29.331214162141812, 19.99860641993046, 9.167647410949833, 5.375833898243308]}, \"tinfo\": {\"Term\": [\"add\", \"conference\", \"research\", \"direction\", \"sense\", \"mother\", \"ask\", \"dog\", \"control\", \"group\", \"respond\", \"form\", \"remain\", \"network\", \"hundred\", \"already\", \"majority\", \"finally\", \"table\", \"green\", \"feel\", \"pretty\", \"effort\", \"threat\", \"news\", \"figure\", \"read\", \"daughter\", \"sort\", \"measure\", \"hotel\", \"her\", \"relationship\", \"doctor\", \"operation\", \"real\", \"try\", \"girl\", \"trade\", \"agent\", \"instead\", \"really\", \"stop\", \"entire\", \"director\", \"situation\", \"large\", \"whose\", \"place\", \"voice\", \"trip\", \"rich\", \"become\", \"man\", \"performance\", \"customer\", \"must\", \"less\", \"including\", \"seven\", \"write\", \"husband\", \"pay\", \"how\", \"boy\", \"wear\", \"finish\", \"eat\", \"design\", \"science\", \"throw\", \"poor\", \"thought\", \"southern\", \"agreement\", \"foreign\", \"them\", \"learn\", \"one\", \"radio\", \"different\", \"contain\", \"score\", \"condition\", \"scene\", \"cup\", \"music\", \"rock\", \"as\", \"space\", \"various\", \"message\", \"newspaper\", \"now\", \"we\", \"professional\", \"both\", \"change\", \"yard\", \"believe\", \"property\", \"attorney\", \"kind\", \"early\", \"analysis\", \"level\", \"financial\", \"fund\", \"fly\", \"ahead\", \"team\", \"agree\", \"mouth\", \"save\", \"tree\", \"soon\", \"agency\", \"which\", \"away\", \"line\", \"prepare\", \"wall\", \"democrat\", \"respond\", \"feel\", \"read\", \"usually\", \"ability\", \"inside\", \"reduce\", \"mind\", \"only\", \"night\", \"personal\", \"market\", \"approach\", \"foot\", \"small\", \"air\", \"study\", \"within\", \"idea\", \"morning\", \"dream\", \"since\", \"ground\", \"beautiful\", \"listen\", \"base\", \"history\", \"defense\", \"this\", \"mrs\", \"smile\", \"list\", \"term\", \"add\", \"conference\", \"research\", \"direction\", \"sense\", \"mother\", \"ask\", \"dog\", \"control\", \"group\", \"form\", \"remain\", \"network\", \"already\", \"hundred\", \"majority\", \"finally\", \"green\", \"table\", \"pretty\", \"effort\", \"threat\", \"news\", \"figure\", \"daughter\", \"sort\", \"measure\", \"she\", \"most\", \"edge\"], \"Freq\": [73.0, 73.0, 72.0, 71.0, 66.0, 65.0, 65.0, 64.0, 63.0, 63.0, 78.0, 62.0, 62.0, 62.0, 62.0, 62.0, 61.0, 61.0, 61.0, 61.0, 75.0, 60.0, 60.0, 60.0, 59.0, 59.0, 72.0, 57.0, 57.0, 57.0, 75.30033452151103, 73.40713508973887, 71.55388202573016, 71.63256441080898, 71.76416600714397, 71.2459438962622, 71.25299947089783, 71.29227342174569, 70.83931897847692, 70.13730130967723, 69.81797531944613, 69.54452737476947, 69.1168894283723, 68.63105379793167, 68.70229637013739, 68.78106520881965, 68.62025670345864, 68.46661904420448, 67.37391273851875, 67.28838130685695, 66.87370659799657, 67.03624897840419, 66.94502121487182, 66.4706983226215, 66.83108497150471, 66.42651092531194, 66.45498778168677, 66.418134531735, 66.24785455382025, 66.1789126080614, 77.20312323318386, 73.23473442167565, 72.80453037428133, 70.82920740131327, 70.3916800348982, 69.97765904071798, 70.1147197526142, 70.19931617584957, 69.57161648674887, 69.26519914808432, 69.18374574675029, 68.5090957056742, 68.36840843004565, 68.47134824661093, 68.34070616256783, 68.17366585715111, 68.02671593490524, 67.58919636755198, 67.57036943239108, 67.4188726571217, 67.39528049520716, 67.44057744608307, 67.3349157569531, 67.06265830892843, 66.77004530963205, 66.6629095978238, 66.7748105363857, 66.0244316053294, 65.96086925174147, 65.76775668276102, 67.49659810692013, 75.98878660822538, 76.39900944829279, 74.80011082595843, 74.08785613557036, 71.84324671578466, 71.45506514439417, 70.44661727992361, 70.42184278757966, 69.69188063646926, 69.5905173883344, 69.28689558883777, 68.96714564268322, 68.39073854961451, 67.78094252385046, 67.62275587473094, 67.04039843675284, 67.15244997199038, 66.88036659578027, 66.94153443983103, 66.74639077809283, 66.62347015885635, 66.42999620963072, 65.42022959132859, 65.23949118817802, 65.18891059767026, 64.48978495248443, 64.39226097961729, 64.22075385328773, 64.40820301182316, 63.704828639575126, 63.91721181712768, 64.13131256519473, 77.27287053626605, 74.47690786909796, 71.79520731146211, 68.17653990462735, 67.14914135044425, 66.95986806980379, 66.97084721690737, 66.7808133914409, 66.63337982680528, 64.94117733952338, 64.45071368192369, 64.41671342797149, 64.03915655002181, 64.1147235038875, 63.46086946616818, 63.13870560304573, 62.73026377975806, 61.14855480488981, 61.162605383021486, 61.004899587947484, 60.7754588148619, 60.43692861211834, 60.03122182503188, 59.398814176348374, 59.45410968542866, 58.98983607145262, 58.67954840830545, 58.265831524109224, 58.282197863730325, 57.41747302242699, 62.21736404979129, 62.618146796658124, 59.84915421908905, 73.16417731467084, 72.61054795332824, 71.58110083450258, 70.85977257234431, 65.22860586443369, 64.77869481406266, 64.5811039987068, 63.56956458384822, 63.07106487820506, 62.97391615594939, 61.91079203317541, 61.72603164173466, 61.697877895140174, 61.346110439467424, 61.431983940706786, 60.62854439608642, 60.54113856257912, 60.456122709997196, 60.46380724196774, 60.11492148578395, 60.10084461248671, 59.521817415568826, 58.5544926478295, 58.50766503113395, 56.55649718251324, 56.48144720733062, 56.23871548430549, 56.16692457402109, 56.011987485227955, 55.88234531417122], \"Total\": [73.0, 73.0, 72.0, 71.0, 66.0, 65.0, 65.0, 64.0, 63.0, 63.0, 78.0, 62.0, 62.0, 62.0, 62.0, 62.0, 61.0, 61.0, 61.0, 61.0, 75.0, 60.0, 60.0, 60.0, 59.0, 59.0, 72.0, 57.0, 57.0, 57.0, 76.11612430699394, 74.22477427418457, 72.36521314250285, 72.44563079319927, 72.57927814854283, 72.05913973431589, 72.0663981782475, 72.10635002038453, 71.65030853948477, 70.95161746934434, 70.6287670170873, 70.35784888442103, 69.9288530776735, 69.44162660545126, 69.51555185920779, 69.59593912190152, 69.43393426078312, 69.28038977836319, 68.18628868050665, 68.10148511556802, 67.68477231825285, 67.849675561029, 67.7585177222491, 67.28062985130674, 67.64621017683076, 67.23846731834523, 67.26772417415694, 67.23201768699244, 67.06005362439029, 66.99352682546909, 78.01856044083921, 74.04917933371928, 73.61901683096806, 71.6424145021148, 71.20326995341196, 70.78956541483731, 70.92846583739784, 71.01422424521726, 70.38513097731948, 70.07802197094712, 69.99694209629675, 69.32325930952939, 69.18168477533327, 69.28745994397177, 69.15621666721005, 68.98806990672004, 68.83953882198017, 68.40149008289559, 68.38254991110401, 68.22985381545774, 68.20671052889206, 68.25294284686395, 68.14847470537731, 67.87598413482598, 67.58074631463569, 67.47322981963623, 67.58788579906023, 66.8362627681672, 66.77363940044202, 66.58107488826947, 70.35046267141372, 76.80109565750077, 77.21648455863827, 75.61355535994593, 74.90068393561371, 72.6562287961632, 72.26692172707786, 71.25746493140535, 71.23313735164992, 70.50208920075576, 70.40375696000568, 70.09824154420546, 69.77932881144926, 69.20322743367201, 68.5921072579825, 68.43497752441395, 67.85165972197954, 67.96611816551042, 67.69075663263519, 67.75280484492522, 67.55613589344664, 67.43473811636008, 67.23930121546852, 66.23137750162795, 66.05082940589197, 66.00291720811337, 65.29955887121186, 65.20158412970098, 65.03040629541864, 65.22179009494445, 64.51641921752449, 64.75793429733342, 67.05565336020791, 78.08507314562469, 75.2877241542788, 72.60988960907488, 68.98757017336645, 67.95778592281687, 67.76845699247153, 67.78229333205684, 67.59117903800968, 67.44275022118696, 65.74958690206773, 65.25910288716696, 65.22571769505404, 64.84633685829164, 64.92316503990189, 64.26752928305899, 63.94564193709083, 63.53991870904869, 61.9536023623355, 61.97122337393473, 61.814501820154625, 61.58372980311894, 61.24448319350058, 60.83839366845007, 60.205749697070715, 60.26501707277275, 59.79472245203226, 59.48637864891576, 59.072274828824845, 59.09153887972398, 58.22519920236464, 63.868141281287905, 65.20317923666026, 61.48328162912474, 73.97857763206741, 73.42513635575315, 72.39685764766887, 71.67427249033885, 66.04439633793844, 65.59515820492479, 65.39725478266939, 64.38210380844238, 63.88528081175349, 63.78933373234913, 62.723820993675, 62.54067584555423, 62.513382674685, 62.15784980976369, 62.245330900955196, 61.44013760862189, 61.354078757837776, 61.269525873773155, 61.278776229790644, 60.92680312648225, 60.91611126857909, 60.33339812476742, 59.36534410449223, 59.320022396453176, 57.3694079416993, 57.29331109980862, 57.050359349534936, 56.97805554587057, 56.823738345419486, 56.69334006484534], \"Category\": [\"Default\", \"Default\", \"Default\", \"Default\", \"Default\", \"Default\", \"Default\", \"Default\", \"Default\", \"Default\", \"Default\", \"Default\", \"Default\", \"Default\", \"Default\", \"Default\", \"Default\", \"Default\", \"Default\", \"Default\", \"Default\", \"Default\", \"Default\", \"Default\", \"Default\", \"Default\", \"Default\", \"Default\", \"Default\", \"Default\", \"Topic1\", \"Topic1\", \"Topic1\", \"Topic1\", \"Topic1\", \"Topic1\", \"Topic1\", \"Topic1\", \"Topic1\", \"Topic1\", \"Topic1\", \"Topic1\", \"Topic1\", \"Topic1\", \"Topic1\", \"Topic1\", \"Topic1\", \"Topic1\", \"Topic1\", \"Topic1\", \"Topic1\", \"Topic1\", \"Topic1\", \"Topic1\", \"Topic1\", \"Topic1\", \"Topic1\", \"Topic1\", \"Topic1\", \"Topic1\", \"Topic2\", \"Topic2\", \"Topic2\", \"Topic2\", \"Topic2\", \"Topic2\", \"Topic2\", \"Topic2\", \"Topic2\", \"Topic2\", \"Topic2\", \"Topic2\", \"Topic2\", \"Topic2\", \"Topic2\", \"Topic2\", \"Topic2\", \"Topic2\", \"Topic2\", \"Topic2\", \"Topic2\", \"Topic2\", \"Topic2\", \"Topic2\", \"Topic2\", \"Topic2\", \"Topic2\", \"Topic2\", \"Topic2\", \"Topic2\", \"Topic2\", \"Topic3\", \"Topic3\", \"Topic3\", \"Topic3\", \"Topic3\", \"Topic3\", \"Topic3\", \"Topic3\", \"Topic3\", \"Topic3\", \"Topic3\", \"Topic3\", \"Topic3\", \"Topic3\", \"Topic3\", \"Topic3\", \"Topic3\", \"Topic3\", \"Topic3\", \"Topic3\", \"Topic3\", \"Topic3\", \"Topic3\", \"Topic3\", \"Topic3\", \"Topic3\", \"Topic3\", \"Topic3\", \"Topic3\", \"Topic3\", \"Topic3\", \"Topic3\", \"Topic4\", \"Topic4\", \"Topic4\", \"Topic4\", \"Topic4\", \"Topic4\", \"Topic4\", \"Topic4\", \"Topic4\", \"Topic4\", \"Topic4\", \"Topic4\", \"Topic4\", \"Topic4\", \"Topic4\", \"Topic4\", \"Topic4\", \"Topic4\", \"Topic4\", \"Topic4\", \"Topic4\", \"Topic4\", \"Topic4\", \"Topic4\", \"Topic4\", \"Topic4\", \"Topic4\", \"Topic4\", \"Topic4\", \"Topic4\", \"Topic4\", \"Topic4\", \"Topic4\", \"Topic5\", \"Topic5\", \"Topic5\", \"Topic5\", \"Topic5\", \"Topic5\", \"Topic5\", \"Topic5\", \"Topic5\", \"Topic5\", \"Topic5\", \"Topic5\", \"Topic5\", \"Topic5\", \"Topic5\", \"Topic5\", \"Topic5\", \"Topic5\", \"Topic5\", \"Topic5\", \"Topic5\", \"Topic5\", \"Topic5\", \"Topic5\", \"Topic5\", \"Topic5\", \"Topic5\", \"Topic5\", \"Topic5\", \"Topic5\"], \"logprob\": [30.0, 29.0, 28.0, 27.0, 26.0, 25.0, 24.0, 23.0, 22.0, 21.0, 20.0, 19.0, 18.0, 17.0, 16.0, 15.0, 14.0, 13.0, 12.0, 11.0, 10.0, 9.0, 8.0, 7.0, 6.0, 5.0, 4.0, 3.0, 2.0, 1.0, -5.613, -5.6384, -5.664, -5.6629, -5.6611, -5.6683, -5.6682, -5.6676, -5.674, -5.684, -5.6885, -5.6925, -5.6986, -5.7057, -5.7047, -5.7035, -5.7058, -5.7081, -5.7242, -5.7254, -5.7316, -5.7292, -5.7306, -5.7377, -5.7323, -5.7383, -5.7379, -5.7385, -5.741, -5.7421, -5.3796, -5.4324, -5.4383, -5.4658, -5.472, -5.4779, -5.4759, -5.4747, -5.4837, -5.4881, -5.4893, -5.4991, -5.5011, -5.4996, -5.5015, -5.504, -5.5062, -5.5126, -5.5129, -5.5151, -5.5155, -5.5148, -5.5164, -5.5204, -5.5248, -5.5264, -5.5247, -5.536, -5.537, -5.5399, -5.514, -5.0125, -5.0071, -5.0282, -5.0378, -5.0686, -5.074, -5.0882, -5.0886, -5.099, -5.1004, -5.1048, -5.1094, -5.1178, -5.1268, -5.1291, -5.1378, -5.1361, -5.1402, -5.1392, -5.1422, -5.144, -5.1469, -5.1622, -5.165, -5.1658, -5.1766, -5.1781, -5.1807, -5.1778, -5.1888, -5.1855, -5.1821, -4.2157, -4.2526, -4.2893, -4.341, -4.3562, -4.359, -4.3588, -4.3617, -4.3639, -4.3896, -4.3972, -4.3977, -4.4036, -4.4024, -4.4127, -4.4177, -4.4242, -4.4498, -4.4495, -4.4521, -4.4559, -4.4615, -4.4682, -4.4788, -4.4779, -4.4857, -4.491, -4.4981, -4.4978, -4.5127, -4.4324, -4.426, -4.4713, -3.7366, -3.7442, -3.7585, -3.7686, -3.8514, -3.8583, -3.8614, -3.8772, -3.8851, -3.8866, -3.9036, -3.9066, -3.9071, -3.9128, -3.9114, -3.9246, -3.926, -3.9274, -3.9273, -3.9331, -3.9333, -3.943, -3.9594, -3.9602, -3.9941, -3.9954, -3.9997, -4.001, -4.0038, -4.0061], \"loglift\": [30.0, 29.0, 28.0, 27.0, 26.0, 25.0, 24.0, 23.0, 22.0, 21.0, 20.0, 19.0, 18.0, 17.0, 16.0, 15.0, 14.0, 13.0, 12.0, 11.0, 10.0, 9.0, 8.0, 7.0, 6.0, 5.0, 4.0, 3.0, 2.0, 1.0, 1.0074, 1.0071, 1.0069, 1.0069, 1.0068, 1.0068, 1.0068, 1.0068, 1.0068, 1.0066, 1.0066, 1.0065, 1.0065, 1.0064, 1.0064, 1.0064, 1.0064, 1.0063, 1.0062, 1.0061, 1.0061, 1.0061, 1.0061, 1.006, 1.006, 1.006, 1.006, 1.006, 1.006, 1.0059, 1.216, 1.2155, 1.2154, 1.2151, 1.2151, 1.215, 1.215, 1.215, 1.2149, 1.2149, 1.2148, 1.2147, 1.2147, 1.2147, 1.2147, 1.2146, 1.2146, 1.2146, 1.2146, 1.2146, 1.2145, 1.2145, 1.2145, 1.2145, 1.2144, 1.2144, 1.2144, 1.2143, 1.2143, 1.2142, 1.1851, 1.5989, 1.5989, 1.5987, 1.5986, 1.5983, 1.5982, 1.5981, 1.5981, 1.5979, 1.5979, 1.5979, 1.5978, 1.5977, 1.5976, 1.5976, 1.5975, 1.5975, 1.5975, 1.5975, 1.5974, 1.5974, 1.5974, 1.5972, 1.5971, 1.5971, 1.597, 1.597, 1.597, 1.597, 1.5968, 1.5964, 1.5649, 2.379, 2.3787, 2.3782, 2.3777, 2.3775, 2.3775, 2.3774, 2.3774, 2.3774, 2.3771, 2.377, 2.377, 2.377, 2.377, 2.3769, 2.3768, 2.3767, 2.3764, 2.3764, 2.3763, 2.3763, 2.3762, 2.3761, 2.376, 2.3759, 2.3759, 2.3758, 2.3757, 2.3757, 2.3755, 2.3633, 2.349, 2.3626, 2.9122, 2.9121, 2.9119, 2.9118, 2.9108, 2.9107, 2.9107, 2.9106, 2.9104, 2.9104, 2.9102, 2.9101, 2.9101, 2.9101, 2.9101, 2.91, 2.9099, 2.9099, 2.9099, 2.9098, 2.9098, 2.9097, 2.9095, 2.9095, 2.909, 2.909, 2.9089, 2.9089, 2.9089, 2.9088]}, \"token.table\": {\"Topic\": [4, 5, 3, 1, 3, 2, 3, 4, 5, 3, 4, 2, 5, 3, 3, 4, 4, 1, 3, 3, 2, 3, 2, 5, 2, 5, 2, 1, 5, 4, 1, 2, 3, 2, 2, 5, 1, 1, 5, 4, 3, 2, 5, 5, 1, 4, 5, 5, 3, 2, 3, 4, 2, 5, 3, 1, 5, 4, 5, 1, 4, 1, 2, 5, 2, 4, 1, 4, 1, 3, 1, 2, 1, 3, 3, 2, 4, 4, 5, 1, 4, 5, 3, 4, 4, 5, 5, 3, 4, 2, 1, 5, 5, 3, 4, 3, 2, 4, 1, 2, 1, 4, 1, 2, 3, 5, 3, 3, 2, 4, 1, 1, 4, 1, 5, 5, 4, 1, 2, 3, 2, 2, 2, 5, 1, 5, 4, 1, 4, 3, 4, 3, 5, 2, 2, 1, 4, 5, 3, 2, 4, 2, 4, 2, 5, 2, 1, 3, 1, 1, 4, 1, 2, 1, 3, 3, 2, 3, 1, 4, 2, 3], \"Freq\": [0.9859061635129686, 0.9867721485950383, 0.9800985045890596, 0.9865877973852323, 0.9935532022737312, 0.9832810884844391, 0.9888889493704612, 0.9852117844399599, 0.9813724282080649, 0.9913677056785043, 0.986948578758718, 0.9884139997851172, 0.9939255128676339, 0.9843328231919642, 0.984155007570801, 0.9867091539279275, 0.9799728480562484, 0.9888055738562883, 0.9928783784076801, 0.9824688571645199, 0.9831009172163124, 0.9823532182541741, 0.987094343514991, 0.9942099344059326, 0.9816426545932955, 0.9861426481889922, 0.9929864062991911, 0.9815809704215651, 0.9935608897676841, 0.9818480864003968, 0.014912985704996782, 0.029825971409993563, 0.954431085119794, 0.9945282338475213, 0.9823080380282978, 0.9905925450386714, 0.9925836471779443, 0.9938487554277586, 0.9940650617820868, 0.9905213632726516, 0.9826131312325679, 0.9857180127503038, 0.9877703436761301, 0.9849611006103138, 0.9936403188254724, 0.9828959612108873, 0.9946051538161201, 0.9942289287850721, 0.9874482109137905, 0.9869098277195741, 0.9897954068325164, 0.985780652570858, 0.9856776699499489, 0.9884601897300231, 0.9857852972688871, 0.984656690845234, 0.9792796523937753, 0.9862193325974541, 0.9876259291927855, 0.9834991175633585, 0.9918236971225576, 0.9853365588808444, 0.9910330422755944, 0.9799931836986011, 0.9858313171981161, 0.9843278328059726, 0.9841924727598974, 0.9886605505485111, 0.9910975790227914, 0.9888315232501722, 0.9937504007888516, 0.9941303898144759, 0.9816751344169342, 0.9936439297542141, 0.9812671487065002, 0.030673350953345953, 0.9662105550303974, 0.9790090979108961, 0.9928363179876712, 0.9809658462749681, 0.9812080612008813, 0.9815889091407888, 0.9895692157690913, 0.9912536066625316, 0.9868234508704063, 0.9855036227920776, 0.9909267967146986, 0.9815687969228417, 0.9789575781766516, 0.9913019057763099, 0.9811540498846849, 0.9917876356594458, 0.9938458353100899, 0.9842457920016486, 0.9885993671232608, 0.9918856432947082, 0.9944057378439191, 0.9934351695366085, 0.9920186840745748, 0.9915916177963997, 0.9904472079789609, 0.980706095679189, 0.9826022400769586, 0.9953369285756454, 0.9919955381314124, 0.9847882528062694, 0.9909680311373681, 0.994265121955991, 0.9819748431707893, 0.9916004608689192, 0.9853017987971967, 0.9949138740013374, 0.9884587361447852, 0.9949531946823169, 0.9913548128758722, 0.9945183028578362, 0.9861039619748952, 0.9874770873404584, 0.9874878885573253, 0.9814079436654073, 0.9914066306410422, 0.9846168322017701, 0.9831474627958666, 0.9841864503902128, 0.9851698085987111, 0.9828345222296472, 0.9796800768231049, 0.9914371566872933, 0.9802772987043534, 0.01565725853200898, 0.9707500289845568, 0.9848049563483523, 0.9774264905451949, 0.9814185720617721, 0.9912726718629193, 0.9867171698548842, 0.9915026849259755, 0.9791318249405744, 0.9917677959804598, 0.016264584021915614, 0.9758750413149369, 0.9878044095537707, 0.9815280004478185, 0.9829191096000224, 0.9944740701646215, 0.9857573478720653, 0.9909238556994294, 0.9840905948442452, 0.989882919085063, 0.9852025603442829, 0.9856848100188965, 0.028429095190765277, 0.9523746888906368, 0.9838258282664643, 0.9882958851983543, 0.9879749571260529, 0.9888463022733599, 0.9815712433104271, 0.9815187272695879, 0.9846077979976312, 0.9869446393898593, 0.9826887120587936], \"Term\": [\"ability\", \"add\", \"agency\", \"agent\", \"agree\", \"agreement\", \"ahead\", \"air\", \"already\", \"analysis\", \"approach\", \"as\", \"ask\", \"attorney\", \"away\", \"base\", \"beautiful\", \"become\", \"believe\", \"both\", \"boy\", \"change\", \"condition\", \"conference\", \"contain\", \"control\", \"cup\", \"customer\", \"daughter\", \"defense\", \"democrat\", \"democrat\", \"democrat\", \"design\", \"different\", \"direction\", \"director\", \"doctor\", \"dog\", \"dream\", \"early\", \"eat\", \"edge\", \"effort\", \"entire\", \"feel\", \"figure\", \"finally\", \"financial\", \"finish\", \"fly\", \"foot\", \"foreign\", \"form\", \"fund\", \"girl\", \"green\", \"ground\", \"group\", \"her\", \"history\", \"hotel\", \"how\", \"hundred\", \"husband\", \"idea\", \"including\", \"inside\", \"instead\", \"kind\", \"large\", \"learn\", \"less\", \"level\", \"line\", \"list\", \"list\", \"listen\", \"majority\", \"man\", \"market\", \"measure\", \"message\", \"mind\", \"morning\", \"most\", \"mother\", \"mouth\", \"mrs\", \"music\", \"must\", \"network\", \"news\", \"newspaper\", \"night\", \"now\", \"one\", \"only\", \"operation\", \"pay\", \"performance\", \"personal\", \"place\", \"poor\", \"prepare\", \"pretty\", \"professional\", \"property\", \"radio\", \"read\", \"real\", \"really\", \"reduce\", \"relationship\", \"remain\", \"research\", \"respond\", \"rich\", \"rock\", \"save\", \"scene\", \"science\", \"score\", \"sense\", \"seven\", \"she\", \"since\", \"situation\", \"small\", \"smile\", \"smile\", \"soon\", \"sort\", \"southern\", \"space\", \"stop\", \"study\", \"table\", \"team\", \"term\", \"term\", \"them\", \"this\", \"thought\", \"threat\", \"throw\", \"trade\", \"tree\", \"trip\", \"try\", \"usually\", \"various\", \"various\", \"voice\", \"wall\", \"we\", \"wear\", \"which\", \"whose\", \"within\", \"write\", \"yard\"]}, \"R\": 30, \"lambda.step\": 0.01, \"plot.opts\": {\"xlab\": \"PC1\", \"ylab\": \"PC2\"}, \"topic.order\": [4, 3, 5, 1, 2]};\n",
              "\n",
              "function LDAvis_load_lib(url, callback){\n",
              "  var s = document.createElement('script');\n",
              "  s.src = url;\n",
              "  s.async = true;\n",
              "  s.onreadystatechange = s.onload = callback;\n",
              "  s.onerror = function(){console.warn(\"failed to load library \" + url);};\n",
              "  document.getElementsByTagName(\"head\")[0].appendChild(s);\n",
              "}\n",
              "\n",
              "if(typeof(LDAvis) !== \"undefined\"){\n",
              "   // already loaded: just create the visualization\n",
              "   !function(LDAvis){\n",
              "       new LDAvis(\"#\" + \"ldavis_el119251378417443640327845016030\", ldavis_el119251378417443640327845016030_data);\n",
              "   }(LDAvis);\n",
              "}else if(typeof define === \"function\" && define.amd){\n",
              "   // require.js is available: use it to load d3/LDAvis\n",
              "   require.config({paths: {d3: \"https://d3js.org/d3.v5\"}});\n",
              "   require([\"d3\"], function(d3){\n",
              "      window.d3 = d3;\n",
              "      LDAvis_load_lib(\"https://cdn.jsdelivr.net/gh/bmabey/pyLDAvis@3.4.0/pyLDAvis/js/ldavis.v3.0.0.js\", function(){\n",
              "        new LDAvis(\"#\" + \"ldavis_el119251378417443640327845016030\", ldavis_el119251378417443640327845016030_data);\n",
              "      });\n",
              "    });\n",
              "}else{\n",
              "    // require.js not available: dynamically load d3 & LDAvis\n",
              "    LDAvis_load_lib(\"https://d3js.org/d3.v5.js\", function(){\n",
              "         LDAvis_load_lib(\"https://cdn.jsdelivr.net/gh/bmabey/pyLDAvis@3.4.0/pyLDAvis/js/ldavis.v3.0.0.js\", function(){\n",
              "                 new LDAvis(\"#\" + \"ldavis_el119251378417443640327845016030\", ldavis_el119251378417443640327845016030_data);\n",
              "            })\n",
              "         });\n",
              "}\n",
              "</script>"
            ]
          },
          "metadata": {},
          "execution_count": 9
        }
      ]
    },
    {
      "cell_type": "code",
      "source": [
        "from gensim.models import CoherenceModel\n",
        "\n",
        "# coherence model of lda\n",
        "coherence_model_lda = CoherenceModel(model=lda_model, texts=words, dictionary=id2word, coherence='c_v')\n",
        "\n",
        "# calculate coherence score for lda\n",
        "coherence_score = coherence_model_lda.get_coherence()\n",
        "\n",
        "print(f'Coherence Score of LDA: {coherence_score}')"
      ],
      "metadata": {
        "colab": {
          "base_uri": "https://localhost:8080/"
        },
        "id": "Y4MH88IorMuC",
        "outputId": "24bfd3dd-85a3-4d11-ba91-144f07b68475"
      },
      "execution_count": 10,
      "outputs": [
        {
          "output_type": "stream",
          "name": "stderr",
          "text": [
            "/usr/local/lib/python3.10/dist-packages/ipykernel/ipkernel.py:283: DeprecationWarning: `should_run_async` will not call `transform_cell` automatically in the future. Please pass the result to `transformed_cell` argument and any exception that happen during thetransform in `preprocessing_exc_tuple` in IPython 7.17 and above.\n",
            "  and should_run_async(code)\n"
          ]
        },
        {
          "output_type": "stream",
          "name": "stdout",
          "text": [
            "Coherence Score: 0.21557482199000555\n"
          ]
        }
      ]
    },
    {
      "cell_type": "code",
      "source": [
        "from bertopic import BERTopic\n",
        "from sentence_transformers import SentenceTransformer\n",
        "from sklearn.feature_extraction.text import TfidfVectorizer\n",
        "import umap\n",
        "import hdbscan\n",
        "\n",
        "# extract BERT embeddings\n",
        "topic_model = BERTopic(embedding_model=\"all-MiniLM-L6-v2\")\n",
        "\n",
        "# transform tweets to topics\n",
        "topics, probs = topic_model.fit_transform(tweets)\n",
        "\n",
        "# get topic information\n",
        "topics_info = topic_model.get_topic_info()\n",
        "\n",
        "# save topic to a data frame and display it on a table\n",
        "bertdf = pd.DataFrame({\"topic\": topics, \"document\": tweets})\n",
        "bertdf.head()\n",
        "\n"
      ],
      "metadata": {
        "colab": {
          "base_uri": "https://localhost:8080/",
          "height": 262
        },
        "id": "9E_Sp1F4yFix",
        "outputId": "9d0137a8-a7cf-4173-bbcd-74d8380ad00d"
      },
      "execution_count": 13,
      "outputs": [
        {
          "output_type": "stream",
          "name": "stderr",
          "text": [
            "/usr/local/lib/python3.10/dist-packages/ipykernel/ipkernel.py:283: DeprecationWarning: `should_run_async` will not call `transform_cell` automatically in the future. Please pass the result to `transformed_cell` argument and any exception that happen during thetransform in `preprocessing_exc_tuple` in IPython 7.17 and above.\n",
            "  and should_run_async(code)\n"
          ]
        },
        {
          "output_type": "execute_result",
          "data": {
            "text/plain": [
              "   topic                                           document\n",
              "0      0  Party least receive say or single. Prevent pre...\n",
              "1      0  Hotel still Congress may member staff. Media d...\n",
              "2      0  Nice be her debate industry that year. Film wh...\n",
              "3      0  Laugh explain situation career occur serious. ...\n",
              "4      0  Involve sense former often approach government..."
            ],
            "text/html": [
              "\n",
              "  <div id=\"df-50b4acbe-f346-489c-a8d0-a8a66eb609c2\" class=\"colab-df-container\">\n",
              "    <div>\n",
              "<style scoped>\n",
              "    .dataframe tbody tr th:only-of-type {\n",
              "        vertical-align: middle;\n",
              "    }\n",
              "\n",
              "    .dataframe tbody tr th {\n",
              "        vertical-align: top;\n",
              "    }\n",
              "\n",
              "    .dataframe thead th {\n",
              "        text-align: right;\n",
              "    }\n",
              "</style>\n",
              "<table border=\"1\" class=\"dataframe\">\n",
              "  <thead>\n",
              "    <tr style=\"text-align: right;\">\n",
              "      <th></th>\n",
              "      <th>topic</th>\n",
              "      <th>document</th>\n",
              "    </tr>\n",
              "  </thead>\n",
              "  <tbody>\n",
              "    <tr>\n",
              "      <th>0</th>\n",
              "      <td>0</td>\n",
              "      <td>Party least receive say or single. Prevent pre...</td>\n",
              "    </tr>\n",
              "    <tr>\n",
              "      <th>1</th>\n",
              "      <td>0</td>\n",
              "      <td>Hotel still Congress may member staff. Media d...</td>\n",
              "    </tr>\n",
              "    <tr>\n",
              "      <th>2</th>\n",
              "      <td>0</td>\n",
              "      <td>Nice be her debate industry that year. Film wh...</td>\n",
              "    </tr>\n",
              "    <tr>\n",
              "      <th>3</th>\n",
              "      <td>0</td>\n",
              "      <td>Laugh explain situation career occur serious. ...</td>\n",
              "    </tr>\n",
              "    <tr>\n",
              "      <th>4</th>\n",
              "      <td>0</td>\n",
              "      <td>Involve sense former often approach government...</td>\n",
              "    </tr>\n",
              "  </tbody>\n",
              "</table>\n",
              "</div>\n",
              "    <div class=\"colab-df-buttons\">\n",
              "\n",
              "  <div class=\"colab-df-container\">\n",
              "    <button class=\"colab-df-convert\" onclick=\"convertToInteractive('df-50b4acbe-f346-489c-a8d0-a8a66eb609c2')\"\n",
              "            title=\"Convert this dataframe to an interactive table.\"\n",
              "            style=\"display:none;\">\n",
              "\n",
              "  <svg xmlns=\"http://www.w3.org/2000/svg\" height=\"24px\" viewBox=\"0 -960 960 960\">\n",
              "    <path d=\"M120-120v-720h720v720H120Zm60-500h600v-160H180v160Zm220 220h160v-160H400v160Zm0 220h160v-160H400v160ZM180-400h160v-160H180v160Zm440 0h160v-160H620v160ZM180-180h160v-160H180v160Zm440 0h160v-160H620v160Z\"/>\n",
              "  </svg>\n",
              "    </button>\n",
              "\n",
              "  <style>\n",
              "    .colab-df-container {\n",
              "      display:flex;\n",
              "      gap: 12px;\n",
              "    }\n",
              "\n",
              "    .colab-df-convert {\n",
              "      background-color: #E8F0FE;\n",
              "      border: none;\n",
              "      border-radius: 50%;\n",
              "      cursor: pointer;\n",
              "      display: none;\n",
              "      fill: #1967D2;\n",
              "      height: 32px;\n",
              "      padding: 0 0 0 0;\n",
              "      width: 32px;\n",
              "    }\n",
              "\n",
              "    .colab-df-convert:hover {\n",
              "      background-color: #E2EBFA;\n",
              "      box-shadow: 0px 1px 2px rgba(60, 64, 67, 0.3), 0px 1px 3px 1px rgba(60, 64, 67, 0.15);\n",
              "      fill: #174EA6;\n",
              "    }\n",
              "\n",
              "    .colab-df-buttons div {\n",
              "      margin-bottom: 4px;\n",
              "    }\n",
              "\n",
              "    [theme=dark] .colab-df-convert {\n",
              "      background-color: #3B4455;\n",
              "      fill: #D2E3FC;\n",
              "    }\n",
              "\n",
              "    [theme=dark] .colab-df-convert:hover {\n",
              "      background-color: #434B5C;\n",
              "      box-shadow: 0px 1px 3px 1px rgba(0, 0, 0, 0.15);\n",
              "      filter: drop-shadow(0px 1px 2px rgba(0, 0, 0, 0.3));\n",
              "      fill: #FFFFFF;\n",
              "    }\n",
              "  </style>\n",
              "\n",
              "    <script>\n",
              "      const buttonEl =\n",
              "        document.querySelector('#df-50b4acbe-f346-489c-a8d0-a8a66eb609c2 button.colab-df-convert');\n",
              "      buttonEl.style.display =\n",
              "        google.colab.kernel.accessAllowed ? 'block' : 'none';\n",
              "\n",
              "      async function convertToInteractive(key) {\n",
              "        const element = document.querySelector('#df-50b4acbe-f346-489c-a8d0-a8a66eb609c2');\n",
              "        const dataTable =\n",
              "          await google.colab.kernel.invokeFunction('convertToInteractive',\n",
              "                                                    [key], {});\n",
              "        if (!dataTable) return;\n",
              "\n",
              "        const docLinkHtml = 'Like what you see? Visit the ' +\n",
              "          '<a target=\"_blank\" href=https://colab.research.google.com/notebooks/data_table.ipynb>data table notebook</a>'\n",
              "          + ' to learn more about interactive tables.';\n",
              "        element.innerHTML = '';\n",
              "        dataTable['output_type'] = 'display_data';\n",
              "        await google.colab.output.renderOutput(dataTable, element);\n",
              "        const docLink = document.createElement('div');\n",
              "        docLink.innerHTML = docLinkHtml;\n",
              "        element.appendChild(docLink);\n",
              "      }\n",
              "    </script>\n",
              "  </div>\n",
              "\n",
              "\n",
              "<div id=\"df-9ea011a8-01fc-4d87-9b84-b1a9c132ca6c\">\n",
              "  <button class=\"colab-df-quickchart\" onclick=\"quickchart('df-9ea011a8-01fc-4d87-9b84-b1a9c132ca6c')\"\n",
              "            title=\"Suggest charts\"\n",
              "            style=\"display:none;\">\n",
              "\n",
              "<svg xmlns=\"http://www.w3.org/2000/svg\" height=\"24px\"viewBox=\"0 0 24 24\"\n",
              "     width=\"24px\">\n",
              "    <g>\n",
              "        <path d=\"M19 3H5c-1.1 0-2 .9-2 2v14c0 1.1.9 2 2 2h14c1.1 0 2-.9 2-2V5c0-1.1-.9-2-2-2zM9 17H7v-7h2v7zm4 0h-2V7h2v10zm4 0h-2v-4h2v4z\"/>\n",
              "    </g>\n",
              "</svg>\n",
              "  </button>\n",
              "\n",
              "<style>\n",
              "  .colab-df-quickchart {\n",
              "      --bg-color: #E8F0FE;\n",
              "      --fill-color: #1967D2;\n",
              "      --hover-bg-color: #E2EBFA;\n",
              "      --hover-fill-color: #174EA6;\n",
              "      --disabled-fill-color: #AAA;\n",
              "      --disabled-bg-color: #DDD;\n",
              "  }\n",
              "\n",
              "  [theme=dark] .colab-df-quickchart {\n",
              "      --bg-color: #3B4455;\n",
              "      --fill-color: #D2E3FC;\n",
              "      --hover-bg-color: #434B5C;\n",
              "      --hover-fill-color: #FFFFFF;\n",
              "      --disabled-bg-color: #3B4455;\n",
              "      --disabled-fill-color: #666;\n",
              "  }\n",
              "\n",
              "  .colab-df-quickchart {\n",
              "    background-color: var(--bg-color);\n",
              "    border: none;\n",
              "    border-radius: 50%;\n",
              "    cursor: pointer;\n",
              "    display: none;\n",
              "    fill: var(--fill-color);\n",
              "    height: 32px;\n",
              "    padding: 0;\n",
              "    width: 32px;\n",
              "  }\n",
              "\n",
              "  .colab-df-quickchart:hover {\n",
              "    background-color: var(--hover-bg-color);\n",
              "    box-shadow: 0 1px 2px rgba(60, 64, 67, 0.3), 0 1px 3px 1px rgba(60, 64, 67, 0.15);\n",
              "    fill: var(--button-hover-fill-color);\n",
              "  }\n",
              "\n",
              "  .colab-df-quickchart-complete:disabled,\n",
              "  .colab-df-quickchart-complete:disabled:hover {\n",
              "    background-color: var(--disabled-bg-color);\n",
              "    fill: var(--disabled-fill-color);\n",
              "    box-shadow: none;\n",
              "  }\n",
              "\n",
              "  .colab-df-spinner {\n",
              "    border: 2px solid var(--fill-color);\n",
              "    border-color: transparent;\n",
              "    border-bottom-color: var(--fill-color);\n",
              "    animation:\n",
              "      spin 1s steps(1) infinite;\n",
              "  }\n",
              "\n",
              "  @keyframes spin {\n",
              "    0% {\n",
              "      border-color: transparent;\n",
              "      border-bottom-color: var(--fill-color);\n",
              "      border-left-color: var(--fill-color);\n",
              "    }\n",
              "    20% {\n",
              "      border-color: transparent;\n",
              "      border-left-color: var(--fill-color);\n",
              "      border-top-color: var(--fill-color);\n",
              "    }\n",
              "    30% {\n",
              "      border-color: transparent;\n",
              "      border-left-color: var(--fill-color);\n",
              "      border-top-color: var(--fill-color);\n",
              "      border-right-color: var(--fill-color);\n",
              "    }\n",
              "    40% {\n",
              "      border-color: transparent;\n",
              "      border-right-color: var(--fill-color);\n",
              "      border-top-color: var(--fill-color);\n",
              "    }\n",
              "    60% {\n",
              "      border-color: transparent;\n",
              "      border-right-color: var(--fill-color);\n",
              "    }\n",
              "    80% {\n",
              "      border-color: transparent;\n",
              "      border-right-color: var(--fill-color);\n",
              "      border-bottom-color: var(--fill-color);\n",
              "    }\n",
              "    90% {\n",
              "      border-color: transparent;\n",
              "      border-bottom-color: var(--fill-color);\n",
              "    }\n",
              "  }\n",
              "</style>\n",
              "\n",
              "  <script>\n",
              "    async function quickchart(key) {\n",
              "      const quickchartButtonEl =\n",
              "        document.querySelector('#' + key + ' button');\n",
              "      quickchartButtonEl.disabled = true;  // To prevent multiple clicks.\n",
              "      quickchartButtonEl.classList.add('colab-df-spinner');\n",
              "      try {\n",
              "        const charts = await google.colab.kernel.invokeFunction(\n",
              "            'suggestCharts', [key], {});\n",
              "      } catch (error) {\n",
              "        console.error('Error during call to suggestCharts:', error);\n",
              "      }\n",
              "      quickchartButtonEl.classList.remove('colab-df-spinner');\n",
              "      quickchartButtonEl.classList.add('colab-df-quickchart-complete');\n",
              "    }\n",
              "    (() => {\n",
              "      let quickchartButtonEl =\n",
              "        document.querySelector('#df-9ea011a8-01fc-4d87-9b84-b1a9c132ca6c button');\n",
              "      quickchartButtonEl.style.display =\n",
              "        google.colab.kernel.accessAllowed ? 'block' : 'none';\n",
              "    })();\n",
              "  </script>\n",
              "</div>\n",
              "\n",
              "    </div>\n",
              "  </div>\n"
            ],
            "application/vnd.google.colaboratory.intrinsic+json": {
              "type": "dataframe",
              "variable_name": "bertdf",
              "summary": "{\n  \"name\": \"bertdf\",\n  \"rows\": 10000,\n  \"fields\": [\n    {\n      \"column\": \"topic\",\n      \"properties\": {\n        \"dtype\": \"number\",\n        \"std\": 0,\n        \"min\": -1,\n        \"max\": 2,\n        \"num_unique_values\": 4,\n        \"samples\": [\n          -1,\n          1,\n          0\n        ],\n        \"semantic_type\": \"\",\n        \"description\": \"\"\n      }\n    },\n    {\n      \"column\": \"document\",\n      \"properties\": {\n        \"dtype\": \"string\",\n        \"num_unique_values\": 10000,\n        \"samples\": [\n          \"Just specific color. Hour federal open act. Particular visit wide another family sea.\\nArt security win great. School discover war hit road population.\",\n          \"Move memory join.\\nIndeed model quite adult when nearly. Safe impact argue detail. Eye not piece anything reach.\\nNews everyone state image believe allow. Strategy hear sure really author.\\nSource paper body manage. Plan because police put.\",\n          \"Meeting recently bed force after difference.\\nBoth herself full note management decade. Wait outside medical bill represent.\\nStudy western prepare single so and. Important audience first not find. Strategy either fund same skin collection hour.\"\n        ],\n        \"semantic_type\": \"\",\n        \"description\": \"\"\n      }\n    }\n  ]\n}"
            }
          },
          "metadata": {},
          "execution_count": 13
        }
      ]
    },
    {
      "cell_type": "code",
      "source": [
        "# show bar chart of generate topics and words associated to those topics\n",
        "topic_model.visualize_barchart()"
      ],
      "metadata": {
        "colab": {
          "base_uri": "https://localhost:8080/",
          "height": 608
        },
        "id": "3SMUiRhvCMmp",
        "outputId": "2674d543-2ef8-4234-90cb-2e7a44d4ef47"
      },
      "execution_count": 45,
      "outputs": [
        {
          "output_type": "stream",
          "name": "stderr",
          "text": [
            "/usr/local/lib/python3.10/dist-packages/ipykernel/ipkernel.py:283: DeprecationWarning:\n",
            "\n",
            "`should_run_async` will not call `transform_cell` automatically in the future. Please pass the result to `transformed_cell` argument and any exception that happen during thetransform in `preprocessing_exc_tuple` in IPython 7.17 and above.\n",
            "\n"
          ]
        },
        {
          "output_type": "display_data",
          "data": {
            "text/html": [
              "<html>\n",
              "<head><meta charset=\"utf-8\" /></head>\n",
              "<body>\n",
              "    <div>            <script src=\"https://cdnjs.cloudflare.com/ajax/libs/mathjax/2.7.5/MathJax.js?config=TeX-AMS-MML_SVG\"></script><script type=\"text/javascript\">if (window.MathJax && window.MathJax.Hub && window.MathJax.Hub.Config) {window.MathJax.Hub.Config({SVG: {font: \"STIX-Web\"}});}</script>                <script type=\"text/javascript\">window.PlotlyConfig = {MathJaxConfig: 'local'};</script>\n",
              "        <script charset=\"utf-8\" src=\"https://cdn.plot.ly/plotly-2.24.1.min.js\"></script>                <div id=\"70ba251f-6767-4180-a557-aa020eb32a6d\" class=\"plotly-graph-div\" style=\"height:500px; width:1000px;\"></div>            <script type=\"text/javascript\">                                    window.PLOTLYENV=window.PLOTLYENV || {};                                    if (document.getElementById(\"70ba251f-6767-4180-a557-aa020eb32a6d\")) {                    Plotly.newPlot(                        \"70ba251f-6767-4180-a557-aa020eb32a6d\",                        [{\"marker\":{\"color\":\"#D55E00\"},\"orientation\":\"h\",\"x\":[0.005603446811085068,0.005823326521156053,0.01054828807521505,0.03141936139172752,0.0421931523008602],\"y\":[\"run  \",\"whole  \",\"democratic  \",\"democrat  \",\"republican  \"],\"type\":\"bar\",\"xaxis\":\"x\",\"yaxis\":\"y\"},{\"marker\":{\"color\":\"#0072B2\"},\"orientation\":\"h\",\"x\":[0.008320709696879201,0.008711124763012263,0.010783787918855996,0.014079432123181936,0.018824906779759787],\"y\":[\"medical  \",\"practice  \",\"coach  \",\"doctor  \",\"hospital  \"],\"type\":\"bar\",\"xaxis\":\"x2\",\"yaxis\":\"y2\"},{\"marker\":{\"color\":\"#CC79A7\"},\"orientation\":\"h\",\"x\":[0.008348411723650584,0.008585438438490831,0.01529783210959334,0.025672315430352168,0.04538356859179358],\"y\":[\"practice  \",\"bill  \",\"court  \",\"lawyer  \",\"attorney  \"],\"type\":\"bar\",\"xaxis\":\"x3\",\"yaxis\":\"y3\"},{\"marker\":{\"color\":\"#E69F00\"},\"orientation\":\"h\",\"x\":[0.00747875542971586,0.007956211429614769,0.014323255408224043,0.01904356371746901,0.04884266598086687],\"y\":[\"defense  \",\"action  \",\"war  \",\"military  \",\"soldier  \"],\"type\":\"bar\",\"xaxis\":\"x4\",\"yaxis\":\"y4\"},{\"marker\":{\"color\":\"#56B4E9\"},\"orientation\":\"h\",\"x\":[0.008022278625326397,0.008447471211735296,0.01095558771493943,0.01107461746997329,0.01752583913743031],\"y\":[\"television  \",\"generation  \",\"politics  \",\"country  \",\"billion  \"],\"type\":\"bar\",\"xaxis\":\"x5\",\"yaxis\":\"y5\"},{\"marker\":{\"color\":\"#009E73\"},\"orientation\":\"h\",\"x\":[0.00819793528006411,0.01690245682799424,0.018071520926106213,0.02096296427428321,0.041521447446747024],\"y\":[\"dinner  \",\"wife  \",\"relationship  \",\"husband  \",\"marriage  \"],\"type\":\"bar\",\"xaxis\":\"x6\",\"yaxis\":\"y6\"},{\"marker\":{\"color\":\"#F0E442\"},\"orientation\":\"h\",\"x\":[0.008919516728198598,0.009986738323941256,0.010194931622447626,0.011208262308828584,0.013134159767590954],\"y\":[\"investment  \",\"trade  \",\"water  \",\"economic  \",\"environmental  \"],\"type\":\"bar\",\"xaxis\":\"x7\",\"yaxis\":\"y7\"},{\"marker\":{\"color\":\"#D55E00\"},\"orientation\":\"h\",\"x\":[0.011709359125012874,0.012466559800667949,0.01325411241001108,0.013947455741478503,0.01720371229259385],\"y\":[\"artist  \",\"movie  \",\"song  \",\"music  \",\"film  \"],\"type\":\"bar\",\"xaxis\":\"x8\",\"yaxis\":\"y8\"}],                        {\"template\":{\"data\":{\"barpolar\":[{\"marker\":{\"line\":{\"color\":\"white\",\"width\":0.5},\"pattern\":{\"fillmode\":\"overlay\",\"size\":10,\"solidity\":0.2}},\"type\":\"barpolar\"}],\"bar\":[{\"error_x\":{\"color\":\"#2a3f5f\"},\"error_y\":{\"color\":\"#2a3f5f\"},\"marker\":{\"line\":{\"color\":\"white\",\"width\":0.5},\"pattern\":{\"fillmode\":\"overlay\",\"size\":10,\"solidity\":0.2}},\"type\":\"bar\"}],\"carpet\":[{\"aaxis\":{\"endlinecolor\":\"#2a3f5f\",\"gridcolor\":\"#C8D4E3\",\"linecolor\":\"#C8D4E3\",\"minorgridcolor\":\"#C8D4E3\",\"startlinecolor\":\"#2a3f5f\"},\"baxis\":{\"endlinecolor\":\"#2a3f5f\",\"gridcolor\":\"#C8D4E3\",\"linecolor\":\"#C8D4E3\",\"minorgridcolor\":\"#C8D4E3\",\"startlinecolor\":\"#2a3f5f\"},\"type\":\"carpet\"}],\"choropleth\":[{\"colorbar\":{\"outlinewidth\":0,\"ticks\":\"\"},\"type\":\"choropleth\"}],\"contourcarpet\":[{\"colorbar\":{\"outlinewidth\":0,\"ticks\":\"\"},\"type\":\"contourcarpet\"}],\"contour\":[{\"colorbar\":{\"outlinewidth\":0,\"ticks\":\"\"},\"colorscale\":[[0.0,\"#0d0887\"],[0.1111111111111111,\"#46039f\"],[0.2222222222222222,\"#7201a8\"],[0.3333333333333333,\"#9c179e\"],[0.4444444444444444,\"#bd3786\"],[0.5555555555555556,\"#d8576b\"],[0.6666666666666666,\"#ed7953\"],[0.7777777777777778,\"#fb9f3a\"],[0.8888888888888888,\"#fdca26\"],[1.0,\"#f0f921\"]],\"type\":\"contour\"}],\"heatmapgl\":[{\"colorbar\":{\"outlinewidth\":0,\"ticks\":\"\"},\"colorscale\":[[0.0,\"#0d0887\"],[0.1111111111111111,\"#46039f\"],[0.2222222222222222,\"#7201a8\"],[0.3333333333333333,\"#9c179e\"],[0.4444444444444444,\"#bd3786\"],[0.5555555555555556,\"#d8576b\"],[0.6666666666666666,\"#ed7953\"],[0.7777777777777778,\"#fb9f3a\"],[0.8888888888888888,\"#fdca26\"],[1.0,\"#f0f921\"]],\"type\":\"heatmapgl\"}],\"heatmap\":[{\"colorbar\":{\"outlinewidth\":0,\"ticks\":\"\"},\"colorscale\":[[0.0,\"#0d0887\"],[0.1111111111111111,\"#46039f\"],[0.2222222222222222,\"#7201a8\"],[0.3333333333333333,\"#9c179e\"],[0.4444444444444444,\"#bd3786\"],[0.5555555555555556,\"#d8576b\"],[0.6666666666666666,\"#ed7953\"],[0.7777777777777778,\"#fb9f3a\"],[0.8888888888888888,\"#fdca26\"],[1.0,\"#f0f921\"]],\"type\":\"heatmap\"}],\"histogram2dcontour\":[{\"colorbar\":{\"outlinewidth\":0,\"ticks\":\"\"},\"colorscale\":[[0.0,\"#0d0887\"],[0.1111111111111111,\"#46039f\"],[0.2222222222222222,\"#7201a8\"],[0.3333333333333333,\"#9c179e\"],[0.4444444444444444,\"#bd3786\"],[0.5555555555555556,\"#d8576b\"],[0.6666666666666666,\"#ed7953\"],[0.7777777777777778,\"#fb9f3a\"],[0.8888888888888888,\"#fdca26\"],[1.0,\"#f0f921\"]],\"type\":\"histogram2dcontour\"}],\"histogram2d\":[{\"colorbar\":{\"outlinewidth\":0,\"ticks\":\"\"},\"colorscale\":[[0.0,\"#0d0887\"],[0.1111111111111111,\"#46039f\"],[0.2222222222222222,\"#7201a8\"],[0.3333333333333333,\"#9c179e\"],[0.4444444444444444,\"#bd3786\"],[0.5555555555555556,\"#d8576b\"],[0.6666666666666666,\"#ed7953\"],[0.7777777777777778,\"#fb9f3a\"],[0.8888888888888888,\"#fdca26\"],[1.0,\"#f0f921\"]],\"type\":\"histogram2d\"}],\"histogram\":[{\"marker\":{\"pattern\":{\"fillmode\":\"overlay\",\"size\":10,\"solidity\":0.2}},\"type\":\"histogram\"}],\"mesh3d\":[{\"colorbar\":{\"outlinewidth\":0,\"ticks\":\"\"},\"type\":\"mesh3d\"}],\"parcoords\":[{\"line\":{\"colorbar\":{\"outlinewidth\":0,\"ticks\":\"\"}},\"type\":\"parcoords\"}],\"pie\":[{\"automargin\":true,\"type\":\"pie\"}],\"scatter3d\":[{\"line\":{\"colorbar\":{\"outlinewidth\":0,\"ticks\":\"\"}},\"marker\":{\"colorbar\":{\"outlinewidth\":0,\"ticks\":\"\"}},\"type\":\"scatter3d\"}],\"scattercarpet\":[{\"marker\":{\"colorbar\":{\"outlinewidth\":0,\"ticks\":\"\"}},\"type\":\"scattercarpet\"}],\"scattergeo\":[{\"marker\":{\"colorbar\":{\"outlinewidth\":0,\"ticks\":\"\"}},\"type\":\"scattergeo\"}],\"scattergl\":[{\"marker\":{\"colorbar\":{\"outlinewidth\":0,\"ticks\":\"\"}},\"type\":\"scattergl\"}],\"scattermapbox\":[{\"marker\":{\"colorbar\":{\"outlinewidth\":0,\"ticks\":\"\"}},\"type\":\"scattermapbox\"}],\"scatterpolargl\":[{\"marker\":{\"colorbar\":{\"outlinewidth\":0,\"ticks\":\"\"}},\"type\":\"scatterpolargl\"}],\"scatterpolar\":[{\"marker\":{\"colorbar\":{\"outlinewidth\":0,\"ticks\":\"\"}},\"type\":\"scatterpolar\"}],\"scatter\":[{\"fillpattern\":{\"fillmode\":\"overlay\",\"size\":10,\"solidity\":0.2},\"type\":\"scatter\"}],\"scatterternary\":[{\"marker\":{\"colorbar\":{\"outlinewidth\":0,\"ticks\":\"\"}},\"type\":\"scatterternary\"}],\"surface\":[{\"colorbar\":{\"outlinewidth\":0,\"ticks\":\"\"},\"colorscale\":[[0.0,\"#0d0887\"],[0.1111111111111111,\"#46039f\"],[0.2222222222222222,\"#7201a8\"],[0.3333333333333333,\"#9c179e\"],[0.4444444444444444,\"#bd3786\"],[0.5555555555555556,\"#d8576b\"],[0.6666666666666666,\"#ed7953\"],[0.7777777777777778,\"#fb9f3a\"],[0.8888888888888888,\"#fdca26\"],[1.0,\"#f0f921\"]],\"type\":\"surface\"}],\"table\":[{\"cells\":{\"fill\":{\"color\":\"#EBF0F8\"},\"line\":{\"color\":\"white\"}},\"header\":{\"fill\":{\"color\":\"#C8D4E3\"},\"line\":{\"color\":\"white\"}},\"type\":\"table\"}]},\"layout\":{\"annotationdefaults\":{\"arrowcolor\":\"#2a3f5f\",\"arrowhead\":0,\"arrowwidth\":1},\"autotypenumbers\":\"strict\",\"coloraxis\":{\"colorbar\":{\"outlinewidth\":0,\"ticks\":\"\"}},\"colorscale\":{\"diverging\":[[0,\"#8e0152\"],[0.1,\"#c51b7d\"],[0.2,\"#de77ae\"],[0.3,\"#f1b6da\"],[0.4,\"#fde0ef\"],[0.5,\"#f7f7f7\"],[0.6,\"#e6f5d0\"],[0.7,\"#b8e186\"],[0.8,\"#7fbc41\"],[0.9,\"#4d9221\"],[1,\"#276419\"]],\"sequential\":[[0.0,\"#0d0887\"],[0.1111111111111111,\"#46039f\"],[0.2222222222222222,\"#7201a8\"],[0.3333333333333333,\"#9c179e\"],[0.4444444444444444,\"#bd3786\"],[0.5555555555555556,\"#d8576b\"],[0.6666666666666666,\"#ed7953\"],[0.7777777777777778,\"#fb9f3a\"],[0.8888888888888888,\"#fdca26\"],[1.0,\"#f0f921\"]],\"sequentialminus\":[[0.0,\"#0d0887\"],[0.1111111111111111,\"#46039f\"],[0.2222222222222222,\"#7201a8\"],[0.3333333333333333,\"#9c179e\"],[0.4444444444444444,\"#bd3786\"],[0.5555555555555556,\"#d8576b\"],[0.6666666666666666,\"#ed7953\"],[0.7777777777777778,\"#fb9f3a\"],[0.8888888888888888,\"#fdca26\"],[1.0,\"#f0f921\"]]},\"colorway\":[\"#636efa\",\"#EF553B\",\"#00cc96\",\"#ab63fa\",\"#FFA15A\",\"#19d3f3\",\"#FF6692\",\"#B6E880\",\"#FF97FF\",\"#FECB52\"],\"font\":{\"color\":\"#2a3f5f\"},\"geo\":{\"bgcolor\":\"white\",\"lakecolor\":\"white\",\"landcolor\":\"white\",\"showlakes\":true,\"showland\":true,\"subunitcolor\":\"#C8D4E3\"},\"hoverlabel\":{\"align\":\"left\"},\"hovermode\":\"closest\",\"mapbox\":{\"style\":\"light\"},\"paper_bgcolor\":\"white\",\"plot_bgcolor\":\"white\",\"polar\":{\"angularaxis\":{\"gridcolor\":\"#EBF0F8\",\"linecolor\":\"#EBF0F8\",\"ticks\":\"\"},\"bgcolor\":\"white\",\"radialaxis\":{\"gridcolor\":\"#EBF0F8\",\"linecolor\":\"#EBF0F8\",\"ticks\":\"\"}},\"scene\":{\"xaxis\":{\"backgroundcolor\":\"white\",\"gridcolor\":\"#DFE8F3\",\"gridwidth\":2,\"linecolor\":\"#EBF0F8\",\"showbackground\":true,\"ticks\":\"\",\"zerolinecolor\":\"#EBF0F8\"},\"yaxis\":{\"backgroundcolor\":\"white\",\"gridcolor\":\"#DFE8F3\",\"gridwidth\":2,\"linecolor\":\"#EBF0F8\",\"showbackground\":true,\"ticks\":\"\",\"zerolinecolor\":\"#EBF0F8\"},\"zaxis\":{\"backgroundcolor\":\"white\",\"gridcolor\":\"#DFE8F3\",\"gridwidth\":2,\"linecolor\":\"#EBF0F8\",\"showbackground\":true,\"ticks\":\"\",\"zerolinecolor\":\"#EBF0F8\"}},\"shapedefaults\":{\"line\":{\"color\":\"#2a3f5f\"}},\"ternary\":{\"aaxis\":{\"gridcolor\":\"#DFE8F3\",\"linecolor\":\"#A2B1C6\",\"ticks\":\"\"},\"baxis\":{\"gridcolor\":\"#DFE8F3\",\"linecolor\":\"#A2B1C6\",\"ticks\":\"\"},\"bgcolor\":\"white\",\"caxis\":{\"gridcolor\":\"#DFE8F3\",\"linecolor\":\"#A2B1C6\",\"ticks\":\"\"}},\"title\":{\"x\":0.05},\"xaxis\":{\"automargin\":true,\"gridcolor\":\"#EBF0F8\",\"linecolor\":\"#EBF0F8\",\"ticks\":\"\",\"title\":{\"standoff\":15},\"zerolinecolor\":\"#EBF0F8\",\"zerolinewidth\":2},\"yaxis\":{\"automargin\":true,\"gridcolor\":\"#EBF0F8\",\"linecolor\":\"#EBF0F8\",\"ticks\":\"\",\"title\":{\"standoff\":15},\"zerolinecolor\":\"#EBF0F8\",\"zerolinewidth\":2}}},\"xaxis\":{\"anchor\":\"y\",\"domain\":[0.0,0.175],\"showgrid\":true},\"yaxis\":{\"anchor\":\"x\",\"domain\":[0.6000000000000001,1.0],\"showgrid\":true},\"xaxis2\":{\"anchor\":\"y2\",\"domain\":[0.275,0.45],\"showgrid\":true},\"yaxis2\":{\"anchor\":\"x2\",\"domain\":[0.6000000000000001,1.0],\"showgrid\":true},\"xaxis3\":{\"anchor\":\"y3\",\"domain\":[0.55,0.7250000000000001],\"showgrid\":true},\"yaxis3\":{\"anchor\":\"x3\",\"domain\":[0.6000000000000001,1.0],\"showgrid\":true},\"xaxis4\":{\"anchor\":\"y4\",\"domain\":[0.825,1.0],\"showgrid\":true},\"yaxis4\":{\"anchor\":\"x4\",\"domain\":[0.6000000000000001,1.0],\"showgrid\":true},\"xaxis5\":{\"anchor\":\"y5\",\"domain\":[0.0,0.175],\"showgrid\":true},\"yaxis5\":{\"anchor\":\"x5\",\"domain\":[0.0,0.4],\"showgrid\":true},\"xaxis6\":{\"anchor\":\"y6\",\"domain\":[0.275,0.45],\"showgrid\":true},\"yaxis6\":{\"anchor\":\"x6\",\"domain\":[0.0,0.4],\"showgrid\":true},\"xaxis7\":{\"anchor\":\"y7\",\"domain\":[0.55,0.7250000000000001],\"showgrid\":true},\"yaxis7\":{\"anchor\":\"x7\",\"domain\":[0.0,0.4],\"showgrid\":true},\"xaxis8\":{\"anchor\":\"y8\",\"domain\":[0.825,1.0],\"showgrid\":true},\"yaxis8\":{\"anchor\":\"x8\",\"domain\":[0.0,0.4],\"showgrid\":true},\"annotations\":[{\"font\":{\"size\":16},\"showarrow\":false,\"text\":\"Topic 0\",\"x\":0.0875,\"xanchor\":\"center\",\"xref\":\"paper\",\"y\":1.0,\"yanchor\":\"bottom\",\"yref\":\"paper\"},{\"font\":{\"size\":16},\"showarrow\":false,\"text\":\"Topic 1\",\"x\":0.36250000000000004,\"xanchor\":\"center\",\"xref\":\"paper\",\"y\":1.0,\"yanchor\":\"bottom\",\"yref\":\"paper\"},{\"font\":{\"size\":16},\"showarrow\":false,\"text\":\"Topic 2\",\"x\":0.6375000000000001,\"xanchor\":\"center\",\"xref\":\"paper\",\"y\":1.0,\"yanchor\":\"bottom\",\"yref\":\"paper\"},{\"font\":{\"size\":16},\"showarrow\":false,\"text\":\"Topic 3\",\"x\":0.9125,\"xanchor\":\"center\",\"xref\":\"paper\",\"y\":1.0,\"yanchor\":\"bottom\",\"yref\":\"paper\"},{\"font\":{\"size\":16},\"showarrow\":false,\"text\":\"Topic 4\",\"x\":0.0875,\"xanchor\":\"center\",\"xref\":\"paper\",\"y\":0.4,\"yanchor\":\"bottom\",\"yref\":\"paper\"},{\"font\":{\"size\":16},\"showarrow\":false,\"text\":\"Topic 5\",\"x\":0.36250000000000004,\"xanchor\":\"center\",\"xref\":\"paper\",\"y\":0.4,\"yanchor\":\"bottom\",\"yref\":\"paper\"},{\"font\":{\"size\":16},\"showarrow\":false,\"text\":\"Topic 6\",\"x\":0.6375000000000001,\"xanchor\":\"center\",\"xref\":\"paper\",\"y\":0.4,\"yanchor\":\"bottom\",\"yref\":\"paper\"},{\"font\":{\"size\":16},\"showarrow\":false,\"text\":\"Topic 7\",\"x\":0.9125,\"xanchor\":\"center\",\"xref\":\"paper\",\"y\":0.4,\"yanchor\":\"bottom\",\"yref\":\"paper\"}],\"title\":{\"font\":{\"size\":22,\"color\":\"Black\"},\"text\":\"Topic Word Scores\",\"x\":0.5,\"xanchor\":\"center\",\"yanchor\":\"top\"},\"hoverlabel\":{\"font\":{\"size\":16,\"family\":\"Rockwell\"},\"bgcolor\":\"white\"},\"showlegend\":false,\"width\":1000,\"height\":500},                        {\"responsive\": true}                    ).then(function(){\n",
              "                            \n",
              "var gd = document.getElementById('70ba251f-6767-4180-a557-aa020eb32a6d');\n",
              "var x = new MutationObserver(function (mutations, observer) {{\n",
              "        var display = window.getComputedStyle(gd).display;\n",
              "        if (!display || display === 'none') {{\n",
              "            console.log([gd, 'removed!']);\n",
              "            Plotly.purge(gd);\n",
              "            observer.disconnect();\n",
              "        }}\n",
              "}});\n",
              "\n",
              "// Listen for the removal of the full notebook cells\n",
              "var notebookContainer = gd.closest('#notebook-container');\n",
              "if (notebookContainer) {{\n",
              "    x.observe(notebookContainer, {childList: true});\n",
              "}}\n",
              "\n",
              "// Listen for the clearing of the current output cell\n",
              "var outputEl = gd.closest('.output');\n",
              "if (outputEl) {{\n",
              "    x.observe(outputEl, {childList: true});\n",
              "}}\n",
              "\n",
              "                        })                };                            </script>        </div>\n",
              "</body>\n",
              "</html>"
            ]
          },
          "metadata": {}
        }
      ]
    },
    {
      "cell_type": "code",
      "source": [
        "from gensim.models import CoherenceModel\n",
        "from gensim.corpora import Dictionary\n",
        "\n",
        "topics_list = []\n",
        "for topic in range(len(topic_model.get_topic_info()) - 1):\n",
        "\n",
        "    topic_words = [word for word, _ in topic_model.get_topic(topic)]\n",
        "    topics_list.append(topic_words)\n",
        "\n",
        "id2word = Dictionary(words)\n",
        "\n",
        "coherence_model = CoherenceModel(\n",
        "    topics=topics_list,\n",
        "    texts=words,\n",
        "    dictionary=id2word,\n",
        "    coherence='c_v'\n",
        ")\n",
        "\n",
        "coherence_score = coherence_model.get_coherence()\n",
        "\n",
        "print(f'Coherence Score for BERTopic model: {coherence_score}')"
      ],
      "metadata": {
        "colab": {
          "base_uri": "https://localhost:8080/"
        },
        "id": "ISS6qhj3xCMu",
        "outputId": "9cf94790-4f17-44c3-9465-0c477bb1809b"
      },
      "execution_count": 16,
      "outputs": [
        {
          "output_type": "stream",
          "name": "stderr",
          "text": [
            "/usr/local/lib/python3.10/dist-packages/ipykernel/ipkernel.py:283: DeprecationWarning: `should_run_async` will not call `transform_cell` automatically in the future. Please pass the result to `transformed_cell` argument and any exception that happen during thetransform in `preprocessing_exc_tuple` in IPython 7.17 and above.\n",
            "  and should_run_async(code)\n"
          ]
        },
        {
          "output_type": "stream",
          "name": "stdout",
          "text": [
            "Coherence Score: 0.341871593280358\n"
          ]
        }
      ]
    }
  ]
}